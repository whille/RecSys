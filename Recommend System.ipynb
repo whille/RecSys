{
 "cells": [
  {
   "cell_type": "markdown",
   "metadata": {
    "toc": "true"
   },
   "source": [
    " # Table of Contents\n",
    "<div class=\"toc\" style=\"margin-top: 1em;\"><ul class=\"toc-item\" id=\"toc-level0\"><li><span><a href=\"http://localhost:8888/notebooks/Recommend%20System.ipynb#目录\" data-toc-modified-id=\"目录-1\"><span class=\"toc-item-num\">1&nbsp;&nbsp;</span>目录</a></span></li><li><span><a href=\"http://localhost:8888/notebooks/Recommend%20System.ipynb#Chapter1\" data-toc-modified-id=\"Chapter1-2\"><span class=\"toc-item-num\">2&nbsp;&nbsp;</span>Chapter1</a></span><ul class=\"toc-item\"><li><span><a href=\"http://localhost:8888/notebooks/Recommend%20System.ipynb#1.3-推荐系统评测\" data-toc-modified-id=\"1.3-推荐系统评测-2.1\"><span class=\"toc-item-num\">2.1&nbsp;&nbsp;</span>1.3 推荐系统评测</a></span><ul class=\"toc-item\"><li><span><a href=\"http://localhost:8888/notebooks/Recommend%20System.ipynb#1.3.1-评测方法\" data-toc-modified-id=\"1.3.1-评测方法-2.1.1\"><span class=\"toc-item-num\">2.1.1&nbsp;&nbsp;</span>1.3.1 评测方法</a></span></li><li><span><a href=\"http://localhost:8888/notebooks/Recommend%20System.ipynb#1.3.2-评测指标\" data-toc-modified-id=\"1.3.2-评测指标-2.1.2\"><span class=\"toc-item-num\">2.1.2&nbsp;&nbsp;</span>1.3.2 评测指标</a></span></li></ul></li></ul></li><li><span><a href=\"http://localhost:8888/notebooks/Recommend%20System.ipynb#Chapter2\" data-toc-modified-id=\"Chapter2-3\"><span class=\"toc-item-num\">3&nbsp;&nbsp;</span>Chapter2</a></span><ul class=\"toc-item\"><li><span><a href=\"http://localhost:8888/notebooks/Recommend%20System.ipynb#用户行为分析\" data-toc-modified-id=\"用户行为分析-3.1\"><span class=\"toc-item-num\">3.1&nbsp;&nbsp;</span>用户行为分析</a></span><ul class=\"toc-item\"><li><span><a href=\"http://localhost:8888/notebooks/Recommend%20System.ipynb#用户活跃度和物品流行度的分布\" data-toc-modified-id=\"用户活跃度和物品流行度的分布-3.1.1\"><span class=\"toc-item-num\">3.1.1&nbsp;&nbsp;</span>用户活跃度和物品流行度的分布</a></span></li><li><span><a href=\"http://localhost:8888/notebooks/Recommend%20System.ipynb#用户活跃度和物品流行度的关系\" data-toc-modified-id=\"用户活跃度和物品流行度的关系-3.1.2\"><span class=\"toc-item-num\">3.1.2&nbsp;&nbsp;</span>用户活跃度和物品流行度的关系</a></span></li></ul></li><li><span><a href=\"http://localhost:8888/notebooks/Recommend%20System.ipynb#基于邻域方法\" data-toc-modified-id=\"基于邻域方法-3.2\"><span class=\"toc-item-num\">3.2&nbsp;&nbsp;</span>基于邻域方法</a></span><ul class=\"toc-item\"><li><span><a href=\"http://localhost:8888/notebooks/Recommend%20System.ipynb#ＵSERCF\" data-toc-modified-id=\"ＵSERCF-3.2.1\"><span class=\"toc-item-num\">3.2.1&nbsp;&nbsp;</span>ＵSERCF</a></span><ul class=\"toc-item\"><li><span><a href=\"http://localhost:8888/notebooks/Recommend%20System.ipynb#Load-Data\" data-toc-modified-id=\"Load-Data-3.2.1.1\"><span class=\"toc-item-num\">3.2.1.1&nbsp;&nbsp;</span>Load Data</a></span></li><li><span><a href=\"http://localhost:8888/notebooks/Recommend%20System.ipynb#Training\" data-toc-modified-id=\"Training-3.2.1.2\"><span class=\"toc-item-num\">3.2.1.2&nbsp;&nbsp;</span>Training</a></span></li><li><span><a href=\"http://localhost:8888/notebooks/Recommend%20System.ipynb#Evaluation\" data-toc-modified-id=\"Evaluation-3.2.1.3\"><span class=\"toc-item-num\">3.2.1.3&nbsp;&nbsp;</span>Evaluation</a></span></li></ul></li><li><span><a href=\"http://localhost:8888/notebooks/Recommend%20System.ipynb#USER-IIF\" data-toc-modified-id=\"USER-IIF-3.2.2\"><span class=\"toc-item-num\">3.2.2&nbsp;&nbsp;</span>USER-IIF</a></span><ul class=\"toc-item\"><li><span><a href=\"http://localhost:8888/notebooks/Recommend%20System.ipynb#Load-Data\" data-toc-modified-id=\"Load-Data-3.2.2.1\"><span class=\"toc-item-num\">3.2.2.1&nbsp;&nbsp;</span>Load Data</a></span></li><li><span><a href=\"http://localhost:8888/notebooks/Recommend%20System.ipynb#Training\" data-toc-modified-id=\"Training-3.2.2.2\"><span class=\"toc-item-num\">3.2.2.2&nbsp;&nbsp;</span>Training</a></span></li><li><span><a href=\"http://localhost:8888/notebooks/Recommend%20System.ipynb#Evaluation\" data-toc-modified-id=\"Evaluation-3.2.2.3\"><span class=\"toc-item-num\">3.2.2.3&nbsp;&nbsp;</span>Evaluation</a></span></li></ul></li><li><span><a href=\"http://localhost:8888/notebooks/Recommend%20System.ipynb#ITEMCF\" data-toc-modified-id=\"ITEMCF-3.2.3\"><span class=\"toc-item-num\">3.2.3&nbsp;&nbsp;</span>ITEMCF</a></span><ul class=\"toc-item\"><li><span><a href=\"http://localhost:8888/notebooks/Recommend%20System.ipynb#Load-Data\" data-toc-modified-id=\"Load-Data-3.2.3.1\"><span class=\"toc-item-num\">3.2.3.1&nbsp;&nbsp;</span>Load Data</a></span></li><li><span><a href=\"http://localhost:8888/notebooks/Recommend%20System.ipynb#Training\" data-toc-modified-id=\"Training-3.2.3.2\"><span class=\"toc-item-num\">3.2.3.2&nbsp;&nbsp;</span>Training</a></span></li><li><span><a href=\"http://localhost:8888/notebooks/Recommend%20System.ipynb#Evaluation\" data-toc-modified-id=\"Evaluation-3.2.3.3\"><span class=\"toc-item-num\">3.2.3.3&nbsp;&nbsp;</span>Evaluation</a></span></li></ul></li><li><span><a href=\"http://localhost:8888/notebooks/Recommend%20System.ipynb#ITEMCF-IUF\" data-toc-modified-id=\"ITEMCF-IUF-3.2.4\"><span class=\"toc-item-num\">3.2.4&nbsp;&nbsp;</span>ITEMCF-IUF</a></span><ul class=\"toc-item\"><li><span><a href=\"http://localhost:8888/notebooks/Recommend%20System.ipynb#Load-Data\" data-toc-modified-id=\"Load-Data-3.2.4.1\"><span class=\"toc-item-num\">3.2.4.1&nbsp;&nbsp;</span>Load Data</a></span></li><li><span><a href=\"http://localhost:8888/notebooks/Recommend%20System.ipynb#Train-Model\" data-toc-modified-id=\"Train-Model-3.2.4.2\"><span class=\"toc-item-num\">3.2.4.2&nbsp;&nbsp;</span>Train Model</a></span></li><li><span><a href=\"http://localhost:8888/notebooks/Recommend%20System.ipynb#Evaluation\" data-toc-modified-id=\"Evaluation-3.2.4.3\"><span class=\"toc-item-num\">3.2.4.3&nbsp;&nbsp;</span>Evaluation</a></span></li></ul></li><li><span><a href=\"http://localhost:8888/notebooks/Recommend%20System.ipynb#ITEMCF-NORM\" data-toc-modified-id=\"ITEMCF-NORM-3.2.5\"><span class=\"toc-item-num\">3.2.5&nbsp;&nbsp;</span>ITEMCF-NORM</a></span><ul class=\"toc-item\"><li><span><a href=\"http://localhost:8888/notebooks/Recommend%20System.ipynb#Load-Data\" data-toc-modified-id=\"Load-Data-3.2.5.1\"><span class=\"toc-item-num\">3.2.5.1&nbsp;&nbsp;</span>Load Data</a></span></li><li><span><a href=\"http://localhost:8888/notebooks/Recommend%20System.ipynb#Train-Model\" data-toc-modified-id=\"Train-Model-3.2.5.2\"><span class=\"toc-item-num\">3.2.5.2&nbsp;&nbsp;</span>Train Model</a></span></li><li><span><a href=\"http://localhost:8888/notebooks/Recommend%20System.ipynb#Evaluation\" data-toc-modified-id=\"Evaluation-3.2.5.3\"><span class=\"toc-item-num\">3.2.5.3&nbsp;&nbsp;</span>Evaluation</a></span></li></ul></li></ul></li></ul></li><li><span><a href=\"http://localhost:8888/notebooks/Recommend%20System.ipynb#Chapter3\" data-toc-modified-id=\"Chapter3-4\"><span class=\"toc-item-num\">4&nbsp;&nbsp;</span>Chapter3</a></span></li><li><span><a href=\"http://localhost:8888/notebooks/Recommend%20System.ipynb#Chapter4\" data-toc-modified-id=\"Chapter4-5\"><span class=\"toc-item-num\">5&nbsp;&nbsp;</span>Chapter4</a></span><ul class=\"toc-item\"><li><span><a href=\"http://localhost:8888/notebooks/Recommend%20System.ipynb#标签流行度长尾趋势\" data-toc-modified-id=\"标签流行度长尾趋势-5.1\"><span class=\"toc-item-num\">5.1&nbsp;&nbsp;</span>标签流行度长尾趋势</a></span></li><li><span><a href=\"http://localhost:8888/notebooks/Recommend%20System.ipynb#基于标签的基本推荐\" data-toc-modified-id=\"基于标签的基本推荐-5.2\"><span class=\"toc-item-num\">5.2&nbsp;&nbsp;</span>基于标签的基本推荐</a></span><ul class=\"toc-item\"><li><span><a href=\"http://localhost:8888/notebooks/Recommend%20System.ipynb#Load-Data\" data-toc-modified-id=\"Load-Data-5.2.1\"><span class=\"toc-item-num\">5.2.1&nbsp;&nbsp;</span>Load Data</a></span></li><li><span><a href=\"http://localhost:8888/notebooks/Recommend%20System.ipynb#Training\" data-toc-modified-id=\"Training-5.2.2\"><span class=\"toc-item-num\">5.2.2&nbsp;&nbsp;</span>Training</a></span></li><li><span><a href=\"http://localhost:8888/notebooks/Recommend%20System.ipynb#Evaluation\" data-toc-modified-id=\"Evaluation-5.2.3\"><span class=\"toc-item-num\">5.2.3&nbsp;&nbsp;</span>Evaluation</a></span><ul class=\"toc-item\"><li><span><a href=\"http://localhost:8888/notebooks/Recommend%20System.ipynb#整理测试集\" data-toc-modified-id=\"整理测试集-5.2.3.1\"><span class=\"toc-item-num\">5.2.3.1&nbsp;&nbsp;</span>整理测试集</a></span></li><li><span><a href=\"http://localhost:8888/notebooks/Recommend%20System.ipynb#计算训练集的流行度\" data-toc-modified-id=\"计算训练集的流行度-5.2.3.2\"><span class=\"toc-item-num\">5.2.3.2&nbsp;&nbsp;</span>计算训练集的流行度</a></span></li><li><span><a href=\"http://localhost:8888/notebooks/Recommend%20System.ipynb#找出所有商品ID（用于计算覆盖率）\" data-toc-modified-id=\"找出所有商品ID（用于计算覆盖率）-5.2.3.3\"><span class=\"toc-item-num\">5.2.3.3&nbsp;&nbsp;</span>找出所有商品ID（用于计算覆盖率）</a></span></li></ul></li></ul></li><li><span><a href=\"http://localhost:8888/notebooks/Recommend%20System.ipynb#基于TFIDF的改进\" data-toc-modified-id=\"基于TFIDF的改进-5.3\"><span class=\"toc-item-num\">5.3&nbsp;&nbsp;</span>基于TFIDF的改进</a></span><ul class=\"toc-item\"><li><span><a href=\"http://localhost:8888/notebooks/Recommend%20System.ipynb#Load-Data\" data-toc-modified-id=\"Load-Data-5.3.1\"><span class=\"toc-item-num\">5.3.1&nbsp;&nbsp;</span>Load Data</a></span></li><li><span><a href=\"http://localhost:8888/notebooks/Recommend%20System.ipynb#Training\" data-toc-modified-id=\"Training-5.3.2\"><span class=\"toc-item-num\">5.3.2&nbsp;&nbsp;</span>Training</a></span></li><li><span><a href=\"http://localhost:8888/notebooks/Recommend%20System.ipynb#Evaluation\" data-toc-modified-id=\"Evaluation-5.3.3\"><span class=\"toc-item-num\">5.3.3&nbsp;&nbsp;</span>Evaluation</a></span><ul class=\"toc-item\"><li><span><a href=\"http://localhost:8888/notebooks/Recommend%20System.ipynb#整理测试集\" data-toc-modified-id=\"整理测试集-5.3.3.1\"><span class=\"toc-item-num\">5.3.3.1&nbsp;&nbsp;</span>整理测试集</a></span></li><li><span><a href=\"http://localhost:8888/notebooks/Recommend%20System.ipynb#计算训练集的流行度\" data-toc-modified-id=\"计算训练集的流行度-5.3.3.2\"><span class=\"toc-item-num\">5.3.3.2&nbsp;&nbsp;</span>计算训练集的流行度</a></span></li><li><span><a href=\"http://localhost:8888/notebooks/Recommend%20System.ipynb#找出所有商品（用于计算覆盖率）\" data-toc-modified-id=\"找出所有商品（用于计算覆盖率）-5.3.3.3\"><span class=\"toc-item-num\">5.3.3.3&nbsp;&nbsp;</span>找出所有商品（用于计算覆盖率）</a></span></li></ul></li></ul></li><li><span><a href=\"http://localhost:8888/notebooks/Recommend%20System.ipynb#TFIDF++\" data-toc-modified-id=\"TFIDF++-5.4\"><span class=\"toc-item-num\">5.4&nbsp;&nbsp;</span>TFIDF++</a></span><ul class=\"toc-item\"><li><span><a href=\"http://localhost:8888/notebooks/Recommend%20System.ipynb#Load-Data\" data-toc-modified-id=\"Load-Data-5.4.1\"><span class=\"toc-item-num\">5.4.1&nbsp;&nbsp;</span>Load Data</a></span></li><li><span><a href=\"http://localhost:8888/notebooks/Recommend%20System.ipynb#Training\" data-toc-modified-id=\"Training-5.4.2\"><span class=\"toc-item-num\">5.4.2&nbsp;&nbsp;</span>Training</a></span></li><li><span><a href=\"http://localhost:8888/notebooks/Recommend%20System.ipynb#Evaluation\" data-toc-modified-id=\"Evaluation-5.4.3\"><span class=\"toc-item-num\">5.4.3&nbsp;&nbsp;</span>Evaluation</a></span><ul class=\"toc-item\"><li><span><a href=\"http://localhost:8888/notebooks/Recommend%20System.ipynb#整理测试集\" data-toc-modified-id=\"整理测试集-5.4.3.1\"><span class=\"toc-item-num\">5.4.3.1&nbsp;&nbsp;</span>整理测试集</a></span></li><li><span><a href=\"http://localhost:8888/notebooks/Recommend%20System.ipynb#计算训练集的流行度\" data-toc-modified-id=\"计算训练集的流行度-5.4.3.2\"><span class=\"toc-item-num\">5.4.3.2&nbsp;&nbsp;</span>计算训练集的流行度</a></span></li><li><span><a href=\"http://localhost:8888/notebooks/Recommend%20System.ipynb#找出所有商品（用于计算覆盖率）\" data-toc-modified-id=\"找出所有商品（用于计算覆盖率）-5.4.3.3\"><span class=\"toc-item-num\">5.4.3.3&nbsp;&nbsp;</span>找出所有商品（用于计算覆盖率）</a></span></li></ul></li></ul></li><li><span><a href=\"http://localhost:8888/notebooks/Recommend%20System.ipynb#标签的相关性报告\" data-toc-modified-id=\"标签的相关性报告-5.5\"><span class=\"toc-item-num\">5.5&nbsp;&nbsp;</span>标签的相关性报告</a></span></li><li><span><a href=\"http://localhost:8888/notebooks/Recommend%20System.ipynb#考虑加入标签协同过滤方式\" data-toc-modified-id=\"考虑加入标签协同过滤方式-5.6\"><span class=\"toc-item-num\">5.6&nbsp;&nbsp;</span>考虑加入标签协同过滤方式</a></span><ul class=\"toc-item\"><li><span><a href=\"http://localhost:8888/notebooks/Recommend%20System.ipynb#Training\" data-toc-modified-id=\"Training-5.6.1\"><span class=\"toc-item-num\">5.6.1&nbsp;&nbsp;</span>Training</a></span></li><li><span><a href=\"http://localhost:8888/notebooks/Recommend%20System.ipynb#Evaluation\" data-toc-modified-id=\"Evaluation-5.6.2\"><span class=\"toc-item-num\">5.6.2&nbsp;&nbsp;</span>Evaluation</a></span><ul class=\"toc-item\"><li><span><a href=\"http://localhost:8888/notebooks/Recommend%20System.ipynb#整理测试集\" data-toc-modified-id=\"整理测试集-5.6.2.1\"><span class=\"toc-item-num\">5.6.2.1&nbsp;&nbsp;</span>整理测试集</a></span></li><li><span><a href=\"http://localhost:8888/notebooks/Recommend%20System.ipynb#计算测试集流行度\" data-toc-modified-id=\"计算测试集流行度-5.6.2.2\"><span class=\"toc-item-num\">5.6.2.2&nbsp;&nbsp;</span>计算测试集流行度</a></span></li><li><span><a href=\"http://localhost:8888/notebooks/Recommend%20System.ipynb#找出所有商品（用于计算覆盖率）\" data-toc-modified-id=\"找出所有商品（用于计算覆盖率）-5.6.2.3\"><span class=\"toc-item-num\">5.6.2.3&nbsp;&nbsp;</span>找出所有商品（用于计算覆盖率）</a></span></li></ul></li></ul></li></ul></li><li><span><a href=\"http://localhost:8888/notebooks/Recommend%20System.ipynb#Chapter5\" data-toc-modified-id=\"Chapter5-6\"><span class=\"toc-item-num\">6&nbsp;&nbsp;</span>Chapter5</a></span><ul class=\"toc-item\"><li><span><a href=\"http://localhost:8888/notebooks/Recommend%20System.ipynb#时间特性\" data-toc-modified-id=\"时间特性-6.1\"><span class=\"toc-item-num\">6.1&nbsp;&nbsp;</span>时间特性</a></span><ul class=\"toc-item\"><li><span><a href=\"http://localhost:8888/notebooks/Recommend%20System.ipynb#找到打标签最多的商品\" data-toc-modified-id=\"找到打标签最多的商品-6.1.1\"><span class=\"toc-item-num\">6.1.1&nbsp;&nbsp;</span>找到打标签最多的商品</a></span></li><li><span><a href=\"http://localhost:8888/notebooks/Recommend%20System.ipynb#热度统计\" data-toc-modified-id=\"热度统计-6.1.2\"><span class=\"toc-item-num\">6.1.2&nbsp;&nbsp;</span>热度统计</a></span></li><li><span><a href=\"http://localhost:8888/notebooks/Recommend%20System.ipynb#画图\" data-toc-modified-id=\"画图-6.1.3\"><span class=\"toc-item-num\">6.1.3&nbsp;&nbsp;</span>画图</a></span></li></ul></li><li><span><a href=\"http://localhost:8888/notebooks/Recommend%20System.ipynb#最近最热门\" data-toc-modified-id=\"最近最热门-6.2\"><span class=\"toc-item-num\">6.2&nbsp;&nbsp;</span>最近最热门</a></span><ul class=\"toc-item\"><li><span><a href=\"http://localhost:8888/notebooks/Recommend%20System.ipynb#数据集\" data-toc-modified-id=\"数据集-6.2.1\"><span class=\"toc-item-num\">6.2.1&nbsp;&nbsp;</span>数据集</a></span></li><li><span><a href=\"http://localhost:8888/notebooks/Recommend%20System.ipynb#模型\" data-toc-modified-id=\"模型-6.2.2\"><span class=\"toc-item-num\">6.2.2&nbsp;&nbsp;</span>模型</a></span></li><li><span><a href=\"http://localhost:8888/notebooks/Recommend%20System.ipynb#推荐\" data-toc-modified-id=\"推荐-6.2.3\"><span class=\"toc-item-num\">6.2.3&nbsp;&nbsp;</span>推荐</a></span></li></ul></li></ul></li></ul></div>"
   ]
  },
  {
   "cell_type": "markdown",
   "metadata": {},
   "source": [
    "# 目录"
   ]
  },
  {
   "cell_type": "markdown",
   "metadata": {
    "toc": true
   },
   "source": [
    "<h1>Table of Contents<span class=\"tocSkip\"></span></h1>\n",
    "<div class=\"toc\"><ul class=\"toc-item\"><li><span><a href=\"#目录\" data-toc-modified-id=\"目录-1\"><span class=\"toc-item-num\">1&nbsp;&nbsp;</span>目录</a></span></li><li><span><a href=\"#Chapter2\" data-toc-modified-id=\"Chapter2-2\"><span class=\"toc-item-num\">2&nbsp;&nbsp;</span>Chapter2</a></span><ul class=\"toc-item\"><li><span><a href=\"#用户行为分析\" data-toc-modified-id=\"用户行为分析-2.1\"><span class=\"toc-item-num\">2.1&nbsp;&nbsp;</span>用户行为分析</a></span><ul class=\"toc-item\"><li><span><a href=\"#用户活跃度和物品流行度的分布\" data-toc-modified-id=\"用户活跃度和物品流行度的分布-2.1.1\"><span class=\"toc-item-num\">2.1.1&nbsp;&nbsp;</span>用户活跃度和物品流行度的分布</a></span></li><li><span><a href=\"#用户活跃度和物品流行度的关系\" data-toc-modified-id=\"用户活跃度和物品流行度的关系-2.1.2\"><span class=\"toc-item-num\">2.1.2&nbsp;&nbsp;</span>用户活跃度和物品流行度的关系</a></span></li></ul></li><li><span><a href=\"#基于邻域方法\" data-toc-modified-id=\"基于邻域方法-2.2\"><span class=\"toc-item-num\">2.2&nbsp;&nbsp;</span>基于邻域方法</a></span><ul class=\"toc-item\"><li><span><a href=\"#ＵSERCF\" data-toc-modified-id=\"ＵSERCF-2.2.1\"><span class=\"toc-item-num\">2.2.1&nbsp;&nbsp;</span>ＵSERCF</a></span><ul class=\"toc-item\"><li><span><a href=\"#Load-Data\" data-toc-modified-id=\"Load-Data-2.2.1.1\"><span class=\"toc-item-num\">2.2.1.1&nbsp;&nbsp;</span>Load Data</a></span></li><li><span><a href=\"#Training\" data-toc-modified-id=\"Training-2.2.1.2\"><span class=\"toc-item-num\">2.2.1.2&nbsp;&nbsp;</span>Training</a></span></li><li><span><a href=\"#Evaluation\" data-toc-modified-id=\"Evaluation-2.2.1.3\"><span class=\"toc-item-num\">2.2.1.3&nbsp;&nbsp;</span>Evaluation</a></span></li></ul></li><li><span><a href=\"#USER-IIF\" data-toc-modified-id=\"USER-IIF-2.2.2\"><span class=\"toc-item-num\">2.2.2&nbsp;&nbsp;</span>USER-IIF</a></span><ul class=\"toc-item\"><li><span><a href=\"#Load-Data\" data-toc-modified-id=\"Load-Data-2.2.2.1\"><span class=\"toc-item-num\">2.2.2.1&nbsp;&nbsp;</span>Load Data</a></span></li><li><span><a href=\"#Training\" data-toc-modified-id=\"Training-2.2.2.2\"><span class=\"toc-item-num\">2.2.2.2&nbsp;&nbsp;</span>Training</a></span></li><li><span><a href=\"#Evaluation\" data-toc-modified-id=\"Evaluation-2.2.2.3\"><span class=\"toc-item-num\">2.2.2.3&nbsp;&nbsp;</span>Evaluation</a></span></li></ul></li><li><span><a href=\"#ITEMCF\" data-toc-modified-id=\"ITEMCF-2.2.3\"><span class=\"toc-item-num\">2.2.3&nbsp;&nbsp;</span>ITEMCF</a></span><ul class=\"toc-item\"><li><span><a href=\"#Load-Data\" data-toc-modified-id=\"Load-Data-2.2.3.1\"><span class=\"toc-item-num\">2.2.3.1&nbsp;&nbsp;</span>Load Data</a></span></li><li><span><a href=\"#Training\" data-toc-modified-id=\"Training-2.2.3.2\"><span class=\"toc-item-num\">2.2.3.2&nbsp;&nbsp;</span>Training</a></span></li><li><span><a href=\"#Evaluation\" data-toc-modified-id=\"Evaluation-2.2.3.3\"><span class=\"toc-item-num\">2.2.3.3&nbsp;&nbsp;</span>Evaluation</a></span></li></ul></li><li><span><a href=\"#ITEMCF-IUF\" data-toc-modified-id=\"ITEMCF-IUF-2.2.4\"><span class=\"toc-item-num\">2.2.4&nbsp;&nbsp;</span>ITEMCF-IUF</a></span><ul class=\"toc-item\"><li><span><a href=\"#Load-Data\" data-toc-modified-id=\"Load-Data-2.2.4.1\"><span class=\"toc-item-num\">2.2.4.1&nbsp;&nbsp;</span>Load Data</a></span></li><li><span><a href=\"#Train-Model\" data-toc-modified-id=\"Train-Model-2.2.4.2\"><span class=\"toc-item-num\">2.2.4.2&nbsp;&nbsp;</span>Train Model</a></span></li><li><span><a href=\"#Evaluation\" data-toc-modified-id=\"Evaluation-2.2.4.3\"><span class=\"toc-item-num\">2.2.4.3&nbsp;&nbsp;</span>Evaluation</a></span></li></ul></li><li><span><a href=\"#ITEMCF-NORM\" data-toc-modified-id=\"ITEMCF-NORM-2.2.5\"><span class=\"toc-item-num\">2.2.5&nbsp;&nbsp;</span>ITEMCF-NORM</a></span><ul class=\"toc-item\"><li><span><a href=\"#Load-Data\" data-toc-modified-id=\"Load-Data-2.2.5.1\"><span class=\"toc-item-num\">2.2.5.1&nbsp;&nbsp;</span>Load Data</a></span></li><li><span><a href=\"#Train-Model\" data-toc-modified-id=\"Train-Model-2.2.5.2\"><span class=\"toc-item-num\">2.2.5.2&nbsp;&nbsp;</span>Train Model</a></span></li><li><span><a href=\"#Evaluation\" data-toc-modified-id=\"Evaluation-2.2.5.3\"><span class=\"toc-item-num\">2.2.5.3&nbsp;&nbsp;</span>Evaluation</a></span></li></ul></li></ul></li></ul></li><li><span><a href=\"#Chapter3\" data-toc-modified-id=\"Chapter3-3\"><span class=\"toc-item-num\">3&nbsp;&nbsp;</span>Chapter3</a></span></li><li><span><a href=\"#Chapter4\" data-toc-modified-id=\"Chapter4-4\"><span class=\"toc-item-num\">4&nbsp;&nbsp;</span>Chapter4</a></span><ul class=\"toc-item\"><li><span><a href=\"#标签流行度长尾趋势\" data-toc-modified-id=\"标签流行度长尾趋势-4.1\"><span class=\"toc-item-num\">4.1&nbsp;&nbsp;</span>标签流行度长尾趋势</a></span></li><li><span><a href=\"#基于标签的基本推荐\" data-toc-modified-id=\"基于标签的基本推荐-4.2\"><span class=\"toc-item-num\">4.2&nbsp;&nbsp;</span>基于标签的基本推荐</a></span><ul class=\"toc-item\"><li><span><a href=\"#Load-Data\" data-toc-modified-id=\"Load-Data-4.2.1\"><span class=\"toc-item-num\">4.2.1&nbsp;&nbsp;</span>Load Data</a></span></li><li><span><a href=\"#Training\" data-toc-modified-id=\"Training-4.2.2\"><span class=\"toc-item-num\">4.2.2&nbsp;&nbsp;</span>Training</a></span></li><li><span><a href=\"#Evaluation\" data-toc-modified-id=\"Evaluation-4.2.3\"><span class=\"toc-item-num\">4.2.3&nbsp;&nbsp;</span>Evaluation</a></span><ul class=\"toc-item\"><li><span><a href=\"#整理测试集\" data-toc-modified-id=\"整理测试集-4.2.3.1\"><span class=\"toc-item-num\">4.2.3.1&nbsp;&nbsp;</span>整理测试集</a></span></li><li><span><a href=\"#计算训练集的流行度\" data-toc-modified-id=\"计算训练集的流行度-4.2.3.2\"><span class=\"toc-item-num\">4.2.3.2&nbsp;&nbsp;</span>计算训练集的流行度</a></span></li><li><span><a href=\"#找出所有商品ID（用于计算覆盖率）\" data-toc-modified-id=\"找出所有商品ID（用于计算覆盖率）-4.2.3.3\"><span class=\"toc-item-num\">4.2.3.3&nbsp;&nbsp;</span>找出所有商品ID（用于计算覆盖率）</a></span></li></ul></li></ul></li><li><span><a href=\"#基于TFIDF的改进\" data-toc-modified-id=\"基于TFIDF的改进-4.3\"><span class=\"toc-item-num\">4.3&nbsp;&nbsp;</span>基于TFIDF的改进</a></span><ul class=\"toc-item\"><li><span><a href=\"#Load-Data\" data-toc-modified-id=\"Load-Data-4.3.1\"><span class=\"toc-item-num\">4.3.1&nbsp;&nbsp;</span>Load Data</a></span></li><li><span><a href=\"#Training\" data-toc-modified-id=\"Training-4.3.2\"><span class=\"toc-item-num\">4.3.2&nbsp;&nbsp;</span>Training</a></span></li><li><span><a href=\"#Evaluation\" data-toc-modified-id=\"Evaluation-4.3.3\"><span class=\"toc-item-num\">4.3.3&nbsp;&nbsp;</span>Evaluation</a></span><ul class=\"toc-item\"><li><span><a href=\"#整理测试集\" data-toc-modified-id=\"整理测试集-4.3.3.1\"><span class=\"toc-item-num\">4.3.3.1&nbsp;&nbsp;</span>整理测试集</a></span></li><li><span><a href=\"#计算训练集的流行度\" data-toc-modified-id=\"计算训练集的流行度-4.3.3.2\"><span class=\"toc-item-num\">4.3.3.2&nbsp;&nbsp;</span>计算训练集的流行度</a></span></li><li><span><a href=\"#找出所有商品（用于计算覆盖率）\" data-toc-modified-id=\"找出所有商品（用于计算覆盖率）-4.3.3.3\"><span class=\"toc-item-num\">4.3.3.3&nbsp;&nbsp;</span>找出所有商品（用于计算覆盖率）</a></span></li></ul></li></ul></li><li><span><a href=\"#TFIDF++\" data-toc-modified-id=\"TFIDF++-4.4\"><span class=\"toc-item-num\">4.4&nbsp;&nbsp;</span>TFIDF++</a></span><ul class=\"toc-item\"><li><span><a href=\"#Load-Data\" data-toc-modified-id=\"Load-Data-4.4.1\"><span class=\"toc-item-num\">4.4.1&nbsp;&nbsp;</span>Load Data</a></span></li><li><span><a href=\"#Training\" data-toc-modified-id=\"Training-4.4.2\"><span class=\"toc-item-num\">4.4.2&nbsp;&nbsp;</span>Training</a></span></li><li><span><a href=\"#Evaluation\" data-toc-modified-id=\"Evaluation-4.4.3\"><span class=\"toc-item-num\">4.4.3&nbsp;&nbsp;</span>Evaluation</a></span><ul class=\"toc-item\"><li><span><a href=\"#整理测试集\" data-toc-modified-id=\"整理测试集-4.4.3.1\"><span class=\"toc-item-num\">4.4.3.1&nbsp;&nbsp;</span>整理测试集</a></span></li><li><span><a href=\"#计算训练集的流行度\" data-toc-modified-id=\"计算训练集的流行度-4.4.3.2\"><span class=\"toc-item-num\">4.4.3.2&nbsp;&nbsp;</span>计算训练集的流行度</a></span></li><li><span><a href=\"#找出所有商品（用于计算覆盖率）\" data-toc-modified-id=\"找出所有商品（用于计算覆盖率）-4.4.3.3\"><span class=\"toc-item-num\">4.4.3.3&nbsp;&nbsp;</span>找出所有商品（用于计算覆盖率）</a></span></li></ul></li></ul></li><li><span><a href=\"#标签的相关性报告\" data-toc-modified-id=\"标签的相关性报告-4.5\"><span class=\"toc-item-num\">4.5&nbsp;&nbsp;</span>标签的相关性报告</a></span></li><li><span><a href=\"#考虑加入标签协同过滤方式\" data-toc-modified-id=\"考虑加入标签协同过滤方式-4.6\"><span class=\"toc-item-num\">4.6&nbsp;&nbsp;</span>考虑加入标签协同过滤方式</a></span><ul class=\"toc-item\"><li><span><a href=\"#Training\" data-toc-modified-id=\"Training-4.6.1\"><span class=\"toc-item-num\">4.6.1&nbsp;&nbsp;</span>Training</a></span></li><li><span><a href=\"#Evaluation\" data-toc-modified-id=\"Evaluation-4.6.2\"><span class=\"toc-item-num\">4.6.2&nbsp;&nbsp;</span>Evaluation</a></span><ul class=\"toc-item\"><li><span><a href=\"#整理测试集\" data-toc-modified-id=\"整理测试集-4.6.2.1\"><span class=\"toc-item-num\">4.6.2.1&nbsp;&nbsp;</span>整理测试集</a></span></li><li><span><a href=\"#计算测试集流行度\" data-toc-modified-id=\"计算测试集流行度-4.6.2.2\"><span class=\"toc-item-num\">4.6.2.2&nbsp;&nbsp;</span>计算测试集流行度</a></span></li><li><span><a href=\"#找出所有商品（用于计算覆盖率）\" data-toc-modified-id=\"找出所有商品（用于计算覆盖率）-4.6.2.3\"><span class=\"toc-item-num\">4.6.2.3&nbsp;&nbsp;</span>找出所有商品（用于计算覆盖率）</a></span></li></ul></li></ul></li></ul></li><li><span><a href=\"#Chapter5\" data-toc-modified-id=\"Chapter5-5\"><span class=\"toc-item-num\">5&nbsp;&nbsp;</span>Chapter5</a></span><ul class=\"toc-item\"><li><span><a href=\"#时间特性\" data-toc-modified-id=\"时间特性-5.1\"><span class=\"toc-item-num\">5.1&nbsp;&nbsp;</span>时间特性</a></span><ul class=\"toc-item\"><li><span><a href=\"#找到打标签最多的商品\" data-toc-modified-id=\"找到打标签最多的商品-5.1.1\"><span class=\"toc-item-num\">5.1.1&nbsp;&nbsp;</span>找到打标签最多的商品</a></span></li><li><span><a href=\"#热度统计\" data-toc-modified-id=\"热度统计-5.1.2\"><span class=\"toc-item-num\">5.1.2&nbsp;&nbsp;</span>热度统计</a></span></li><li><span><a href=\"#画图\" data-toc-modified-id=\"画图-5.1.3\"><span class=\"toc-item-num\">5.1.3&nbsp;&nbsp;</span>画图</a></span></li></ul></li><li><span><a href=\"#最近最热门\" data-toc-modified-id=\"最近最热门-5.2\"><span class=\"toc-item-num\">5.2&nbsp;&nbsp;</span>最近最热门</a></span><ul class=\"toc-item\"><li><span><a href=\"#数据集\" data-toc-modified-id=\"数据集-5.2.1\"><span class=\"toc-item-num\">5.2.1&nbsp;&nbsp;</span>数据集</a></span></li><li><span><a href=\"#模型\" data-toc-modified-id=\"模型-5.2.2\"><span class=\"toc-item-num\">5.2.2&nbsp;&nbsp;</span>模型</a></span></li><li><span><a href=\"#推荐\" data-toc-modified-id=\"推荐-5.2.3\"><span class=\"toc-item-num\">5.2.3&nbsp;&nbsp;</span>推荐</a></span></li></ul></li></ul></li></ul></div>"
   ]
  },
  {
   "cell_type": "code",
   "execution_count": 2,
   "metadata": {
    "ExecuteTime": {
     "end_time": "2018-11-26T07:20:30.241266Z",
     "start_time": "2018-11-26T07:20:30.238078Z"
    },
    "init_cell": true
   },
   "outputs": [],
   "source": [
    "import matplotlib.pyplot as plt\n",
    "import pandas as pd\n",
    "import numpy as np\n",
    "import seaborn as sns\n",
    "%matplotlib inline"
   ]
  },
  {
   "cell_type": "markdown",
   "metadata": {},
   "source": [
    "# Chapter1\n",
    "\n",
    "信息过载问题： 大量信息中找到个人感兴趣的信息\n",
    "推荐算法本质： 关联user和item\n",
    "\n",
    "## 1.3 推荐系统评测\n",
    "### 1.3.1 评测方法\n",
    "* offline\n",
    "* 调查\n",
    "* online\n",
    "\n",
    "### 1.3.2 评测指标\n",
    "* 用户满意度\n",
    "* 预测准确度： 评分预测 RMSE， MAE\n",
    "$$RMSE = \\sqrt{\\frac{\\sum_{u,i \\in T}{(r_{ui} - \\hat{r}_{ui}})^2}{\\left|T\\right|}}$$ \n",
    "$$MAE = \\frac{\\sum_{u,i \\in T}{\\left| r_{ui} - \\hat{r}_{ui} \\right|}}{\\left|T\\right|}$$ \n",
    "\n",
    "TopN推荐：Recall， Precision， P/R curve by N：\n",
    "\n",
    "$$Recall = \\frac{\\sum_{u \\in U} \\left| R(u) \\bigcap T(u) \\right|}{\\sum_{u \\in U} T(u)}$$\n",
    "$$Precision = \\frac{\\sum_{u \\in U} \\left| R(u) \\bigcap T(u) \\right|}{\\sum_{u \\in U} R(u)}$$\n",
    "其中， R(u)是训练集的推荐列表， T(u)是测试集的推荐列表\n",
    "\n",
    "* 覆盖率：Coverage, \n",
    " 粗略定义 $$Coverage = \\frac{\\left| \\bigcup_{u \\in U} R(u)\\right|}{\\left| I \\right|}$$ \n",
    "信息熵和基尼系数更好定义： \n",
    "$$H = -\\sum_{i=1}^n p(i)\\log p(i)$$\n",
    "$$G=\\frac{1}{n-1} \\sum_{j=1}^n (2j-n-1)p(i_j)$$\n",
    "其中p(i)是对物品i的流行度(popularity)的归一化"
   ]
  },
  {
   "cell_type": "markdown",
   "metadata": {},
   "source": [
    "* 多样性： Diversity，\n",
    "先对每个用户的推荐计算：$$ Diversity(R(u)) =1-\\frac{\\sum_{i,j \\in R(u), i \\neq j} s(i,j)}{\\frac{1}{2} \\left|R(u)\\right| (\\left|R(u)\\right|-1) }$$\n",
    "然后对所有用户求平均值： $$Diversity = \\frac{1}{\\left|U\\right|}\\sum_{u \\in U} Diversity(R(u))$$\n",
    "其中s(i,j)表示物品i,j的相似度, similarity\n",
    "\n",
    "* 新颖性\n",
    "* 惊奇度serendipity\n",
    "* 信任度\n",
    "* 健壮性robust\n",
    "* 商业目标是否达成"
   ]
  },
  {
   "cell_type": "markdown",
   "metadata": {},
   "source": [
    "\n",
    "T是testset\n",
    "R(u)是对用户u的物品推荐列表，长度为N\n"
   ]
  },
  {
   "cell_type": "markdown",
   "metadata": {
    "ExecuteTime": {
     "end_time": "2018-06-10T04:02:25.230968Z",
     "start_time": "2018-06-10T04:02:25.172528Z"
    }
   },
   "source": [
    "# Chapter2\n",
    "\n",
    "## 用户行为分析\n",
    "\n",
    "### 用户活跃度和物品流行度的分布"
   ]
  },
  {
   "cell_type": "code",
   "execution_count": 3,
   "metadata": {
    "ExecuteTime": {
     "end_time": "2018-11-07T07:41:33.687108Z",
     "start_time": "2018-11-07T07:41:32.167378Z"
    },
    "scrolled": false
   },
   "outputs": [
    {
     "data": {
      "text/html": [
       "<div>\n",
       "<style scoped>\n",
       "    .dataframe tbody tr th:only-of-type {\n",
       "        vertical-align: middle;\n",
       "    }\n",
       "\n",
       "    .dataframe tbody tr th {\n",
       "        vertical-align: top;\n",
       "    }\n",
       "\n",
       "    .dataframe thead th {\n",
       "        text-align: right;\n",
       "    }\n",
       "</style>\n",
       "<table border=\"1\" class=\"dataframe\">\n",
       "  <thead>\n",
       "    <tr style=\"text-align: right;\">\n",
       "      <th></th>\n",
       "      <th>userID</th>\n",
       "      <th>movieID</th>\n",
       "      <th>Rating</th>\n",
       "    </tr>\n",
       "  </thead>\n",
       "  <tbody>\n",
       "    <tr>\n",
       "      <th>0</th>\n",
       "      <td>1</td>\n",
       "      <td>1193</td>\n",
       "      <td>5</td>\n",
       "    </tr>\n",
       "    <tr>\n",
       "      <th>1</th>\n",
       "      <td>1</td>\n",
       "      <td>661</td>\n",
       "      <td>3</td>\n",
       "    </tr>\n",
       "    <tr>\n",
       "      <th>2</th>\n",
       "      <td>1</td>\n",
       "      <td>914</td>\n",
       "      <td>3</td>\n",
       "    </tr>\n",
       "    <tr>\n",
       "      <th>3</th>\n",
       "      <td>1</td>\n",
       "      <td>3408</td>\n",
       "      <td>4</td>\n",
       "    </tr>\n",
       "    <tr>\n",
       "      <th>4</th>\n",
       "      <td>1</td>\n",
       "      <td>2355</td>\n",
       "      <td>5</td>\n",
       "    </tr>\n",
       "  </tbody>\n",
       "</table>\n",
       "</div>"
      ],
      "text/plain": [
       "   userID  movieID  Rating\n",
       "0       1     1193       5\n",
       "1       1      661       3\n",
       "2       1      914       3\n",
       "3       1     3408       4\n",
       "4       1     2355       5"
      ]
     },
     "execution_count": 3,
     "metadata": {},
     "output_type": "execute_result"
    }
   ],
   "source": [
    "from main.util.movielen_reader import read_rating_data\n",
    "from main.util import movielen_reader\n",
    "\n",
    "movieLen_data = read_rating_data()    # train, test\n",
    "movieLen_df = pd.DataFrame(movieLen_data[0],columns = [\"userID\",\"movieID\",\"Rating\"])\n",
    "movieLen_df.head()"
   ]
  },
  {
   "cell_type": "code",
   "execution_count": 6,
   "metadata": {
    "ExecuteTime": {
     "end_time": "2018-06-10T05:44:57.080548Z",
     "start_time": "2018-06-10T05:44:57.024300Z"
    }
   },
   "outputs": [
    {
     "data": {
      "text/html": [
       "<div>\n",
       "<style scoped>\n",
       "    .dataframe tbody tr th:only-of-type {\n",
       "        vertical-align: middle;\n",
       "    }\n",
       "\n",
       "    .dataframe tbody tr th {\n",
       "        vertical-align: top;\n",
       "    }\n",
       "\n",
       "    .dataframe thead th {\n",
       "        text-align: right;\n",
       "    }\n",
       "</style>\n",
       "<table border=\"1\" class=\"dataframe\">\n",
       "  <thead>\n",
       "    <tr style=\"text-align: right;\">\n",
       "      <th></th>\n",
       "      <th>Item Popularity</th>\n",
       "      <th>counts</th>\n",
       "      <th>log_Item_Popularity</th>\n",
       "    </tr>\n",
       "  </thead>\n",
       "  <tbody>\n",
       "    <tr>\n",
       "      <th>0</th>\n",
       "      <td>1</td>\n",
       "      <td>114</td>\n",
       "      <td>0.000000</td>\n",
       "    </tr>\n",
       "    <tr>\n",
       "      <th>1</th>\n",
       "      <td>2</td>\n",
       "      <td>89</td>\n",
       "      <td>0.301030</td>\n",
       "    </tr>\n",
       "    <tr>\n",
       "      <th>2</th>\n",
       "      <td>3</td>\n",
       "      <td>42</td>\n",
       "      <td>0.477121</td>\n",
       "    </tr>\n",
       "    <tr>\n",
       "      <th>3</th>\n",
       "      <td>4</td>\n",
       "      <td>45</td>\n",
       "      <td>0.602060</td>\n",
       "    </tr>\n",
       "    <tr>\n",
       "      <th>4</th>\n",
       "      <td>5</td>\n",
       "      <td>39</td>\n",
       "      <td>0.698970</td>\n",
       "    </tr>\n",
       "  </tbody>\n",
       "</table>\n",
       "</div>"
      ],
      "text/plain": [
       "   Item Popularity  counts  log_Item_Popularity\n",
       "0                1     114             0.000000\n",
       "1                2      89             0.301030\n",
       "2                3      42             0.477121\n",
       "3                4      45             0.602060\n",
       "4                5      39             0.698970"
      ]
     },
     "execution_count": 6,
     "metadata": {},
     "output_type": "execute_result"
    }
   ],
   "source": [
    "sum_movie_rating = (movieLen_df[[\"userID\", \"movieID\"]].groupby(\n",
    "    [\"movieID\"], as_index=False).count())\n",
    "sum_movie_rating.rename(\n",
    "    mapper={\"userID\": \"Item Popularity\"}, axis=1, inplace=True)\n",
    "sum_movie_rating = sum_movie_rating.groupby(\n",
    "    \"Item Popularity\", as_index=False).count()\n",
    "sum_movie_rating.rename(mapper={\"movieID\": \"counts\"}, axis=1, inplace=True)\n",
    "sum_movie_rating[\"log_Item_Popularity\"] = np.log10(\n",
    "    sum_movie_rating[\"Item Popularity\"])\n",
    "sum_movie_rating.head()"
   ]
  },
  {
   "cell_type": "code",
   "execution_count": 7,
   "metadata": {
    "ExecuteTime": {
     "end_time": "2018-06-10T05:47:20.319494Z",
     "start_time": "2018-06-10T05:47:19.842931Z"
    }
   },
   "outputs": [
    {
     "data": {
      "image/png": "[encoded data removed]",
      "text/plain": [
       "<Figure size 432x432 with 3 Axes>"
      ]
     },
     "metadata": {},
     "output_type": "display_data"
    }
   ],
   "source": [
    "import seaborn as sns\n",
    "\n",
    "sns.set_style(\"whitegrid\")\n",
    "axe = sns.jointplot(x = \"log_Item_Popularity\",y = \"counts\",data = sum_movie_rating)\n"
   ]
  },
  {
   "cell_type": "code",
   "execution_count": 8,
   "metadata": {
    "ExecuteTime": {
     "end_time": "2018-06-11T04:29:07.358237Z",
     "start_time": "2018-06-11T04:29:06.871242Z"
    }
   },
   "outputs": [
    {
     "data": {
      "text/plain": [
       "Text(0.5, 1, '')"
      ]
     },
     "execution_count": 8,
     "metadata": {},
     "output_type": "execute_result"
    },
    {
     "data": {
      "image/png": "[encoded data removed]",
      "text/plain": [
       "<Figure size 432x432 with 3 Axes>"
      ]
     },
     "metadata": {},
     "output_type": "display_data"
    }
   ],
   "source": [
    "import seaborn as sns\n",
    "\n",
    "item_popularity = movieLen_df.groupby([\"userID\"],as_index = False).count()\n",
    "item_popularity.rename(mapper = {\"movieID\" : \"movie_count\"},axis = 1,inplace = True)\n",
    "item_popularity = item_popularity.groupby([\"movie_count\"],as_index = False).count()\n",
    "item_popularity.rename(mapper = {\"userID\" : \"user_count\"},axis = 1,inplace = True)\n",
    "item_popularity[\"log_movie_count\"] = np.log10(item_popularity.movie_count)\n",
    "\n",
    "sns.set_style(\"whitegrid\")\n",
    "\n",
    "sns.jointplot(data = item_popularity,x = \"log_movie_count\",y = \"user_count\")\n",
    "plt.title(\"\")"
   ]
  },
  {
   "cell_type": "markdown",
   "metadata": {},
   "source": [
    "### 用户活跃度和物品流行度的关系"
   ]
  },
  {
   "cell_type": "code",
   "execution_count": 9,
   "metadata": {
    "ExecuteTime": {
     "end_time": "2018-06-11T05:05:35.850023Z",
     "start_time": "2018-06-11T05:05:35.073281Z"
    }
   },
   "outputs": [
    {
     "data": {
      "text/plain": [
       "<seaborn.axisgrid.JointGrid at 0x10f265278>"
      ]
     },
     "execution_count": 9,
     "metadata": {},
     "output_type": "execute_result"
    },
    {
     "data": {
      "image/png": "[encoded data removed]",
      "text/plain": [
       "<Figure size 432x432 with 3 Axes>"
      ]
     },
     "metadata": {},
     "output_type": "display_data"
    }
   ],
   "source": [
    "import seaborn as sns\n",
    "\n",
    "user_activity = movieLen_df[[\"userID\",\"movieID\"]].groupby(\"userID\").count()\n",
    "user_activity.rename({\"movieID\" : \"user_activity\"},axis = 1,inplace = True)\n",
    "\n",
    "movie_popularity = (movieLen_df[[\"userID\",\"movieID\"]].\n",
    "                                groupby(\"movieID\",as_index = False).count())\n",
    "movie_popularity.rename({\"userID\" : \"movie_popularity\"},axis = 1,inplace = True)\n",
    "\n",
    "\n",
    "combine = pd.merge(left = movieLen_df,right = user_activity,on = \"userID\")\n",
    "combine = pd.merge(left = combine,right = movie_popularity,on = \"movieID\")\n",
    "\n",
    "combine = combine.groupby([\"user_activity\"],as_index = False).mean()\n",
    "\n",
    "sns.set_style(\"whitegrid\")\n",
    "sns.jointplot(data = combine,x = \"user_activity\",y = \"movie_popularity\")"
   ]
  },
  {
   "cell_type": "markdown",
   "metadata": {},
   "source": [
    "## 基于邻域方法"
   ]
  },
  {
   "cell_type": "markdown",
   "metadata": {},
   "source": [
    "### ＵSERCF"
   ]
  },
  {
   "cell_type": "markdown",
   "metadata": {},
   "source": [
    "#### Load Data"
   ]
  },
  {
   "cell_type": "code",
   "execution_count": 2,
   "metadata": {
    "ExecuteTime": {
     "end_time": "2018-06-14T05:01:40.254968Z",
     "start_time": "2018-06-14T05:01:37.884374Z"
    }
   },
   "outputs": [],
   "source": [
    "from main.chapter2 import usercf\n",
    "from main.util import movielen_reader\n",
    "\n",
    "trainset,testset = movielen_reader.read_rating_data(train_rate = 0.8)"
   ]
  },
  {
   "cell_type": "markdown",
   "metadata": {},
   "source": [
    "#### Training "
   ]
  },
  {
   "cell_type": "code",
   "execution_count": 3,
   "metadata": {
    "ExecuteTime": {
     "end_time": "2018-06-14T05:01:53.452768Z",
     "start_time": "2018-06-14T05:01:44.188876Z"
    }
   },
   "outputs": [
    {
     "name": "stderr",
     "output_type": "stream",
     "text": [
      "开始训练模型\n",
      "开始载入用户协同矩阵....\n",
      "载入协同过滤矩阵完成\n",
      "开始保存协同过滤矩阵\n",
      "保存协同过滤矩阵完成\n"
     ]
    }
   ],
   "source": [
    "uf = usercf.UserCF()\n",
    "uf.train(trainset)"
   ]
  },
  {
   "cell_type": "markdown",
   "metadata": {},
   "source": [
    "#### Evaluation"
   ]
  },
  {
   "cell_type": "code",
   "execution_count": 4,
   "metadata": {
    "ExecuteTime": {
     "end_time": "2018-06-14T05:01:57.785442Z",
     "start_time": "2018-06-14T05:01:57.649044Z"
    }
   },
   "outputs": [],
   "source": [
    "test = dict()\n",
    "for user,item,_ in testset:\n",
    "    test.setdefault(user,list())\n",
    "    test[user].append(item)"
   ]
  },
  {
   "cell_type": "code",
   "execution_count": 5,
   "metadata": {
    "ExecuteTime": {
     "end_time": "2018-06-14T05:02:02.144210Z",
     "start_time": "2018-06-14T05:02:02.134979Z"
    }
   },
   "outputs": [],
   "source": [
    "def train_popularity(train):\n",
    "    \"\"\"计算训练集的流行度\"\"\"\n",
    "    train_popularity = dict()\n",
    "    for user,item,_ in train:\n",
    "        train_popularity.setdefault(item,0)\n",
    "        train_popularity[item] += 1\n",
    "    return train_popularity"
   ]
  },
  {
   "cell_type": "code",
   "execution_count": 6,
   "metadata": {
    "ExecuteTime": {
     "end_time": "2018-06-14T05:02:06.837889Z",
     "start_time": "2018-06-14T05:02:06.727612Z"
    }
   },
   "outputs": [],
   "source": [
    "from main.util import metric\n",
    "from main.util import movielen_reader\n",
    "import pandas as pd\n",
    "\n",
    "def evaluate(N,K):\n",
    "    \"\"\"评价模型\n",
    "        Args:\n",
    "            N:　　　　推荐的商品个数\n",
    "            K:　　　　搜索邻近的用户个数\n",
    "        Return:\n",
    "            精确率,召回率,覆盖率,流行度\n",
    "    \"\"\"\n",
    "    recommens = uf.recommend_users(test.keys(),N = N,K = K)\n",
    "    all_items = movielen_reader.all_items()\n",
    "    item_popularity = train_popularity(trainset)\n",
    "\n",
    "    recall = metric.recall(recommends = recommens,tests=test)\n",
    "    precision = metric.precision(recommends = recommens,tests = test)\n",
    "    coverage = metric.coverage(recommends = recommens,all_items = all_items)\n",
    "    popularity = metric.popularity(item_popular = item_popularity,recommends = recommens)\n",
    "    \n",
    "    return precision,recall,coverage,popularity\n"
   ]
  },
  {
   "cell_type": "code",
   "execution_count": 7,
   "metadata": {
    "ExecuteTime": {
     "end_time": "2018-06-14T05:05:57.577139Z",
     "start_time": "2018-06-14T05:02:11.008311Z"
    }
   },
   "outputs": [],
   "source": [
    "N = 30   #表示推荐的商品个数\n",
    "K_list = [5,10,20,40,80,160]  #表示临近用户的list\n",
    "evals = list()\n",
    "\n",
    "for k in K_list:\n",
    "    single_eval = evaluate(N = N,K = k)\n",
    "    evals.append(single_eval)"
   ]
  },
  {
   "cell_type": "code",
   "execution_count": 8,
   "metadata": {
    "ExecuteTime": {
     "end_time": "2018-06-14T05:14:16.786880Z",
     "start_time": "2018-06-14T05:14:16.553702Z"
    }
   },
   "outputs": [
    {
     "data": {
      "text/html": [
       "<div>\n",
       "<style scoped>\n",
       "    .dataframe tbody tr th:only-of-type {\n",
       "        vertical-align: middle;\n",
       "    }\n",
       "\n",
       "    .dataframe tbody tr th {\n",
       "        vertical-align: top;\n",
       "    }\n",
       "\n",
       "    .dataframe thead th {\n",
       "        text-align: right;\n",
       "    }\n",
       "</style>\n",
       "<table border=\"1\" class=\"dataframe\">\n",
       "  <thead>\n",
       "    <tr style=\"text-align: right;\">\n",
       "      <th></th>\n",
       "      <th>Precision</th>\n",
       "      <th>Recall</th>\n",
       "      <th>Coverage</th>\n",
       "      <th>Popularity</th>\n",
       "    </tr>\n",
       "  </thead>\n",
       "  <tbody>\n",
       "    <tr>\n",
       "      <th>5</th>\n",
       "      <td>0.187374</td>\n",
       "      <td>0.206607</td>\n",
       "      <td>0.709120</td>\n",
       "      <td>6.571688</td>\n",
       "    </tr>\n",
       "    <tr>\n",
       "      <th>10</th>\n",
       "      <td>0.215727</td>\n",
       "      <td>0.237871</td>\n",
       "      <td>0.576902</td>\n",
       "      <td>6.727978</td>\n",
       "    </tr>\n",
       "    <tr>\n",
       "      <th>20</th>\n",
       "      <td>0.234815</td>\n",
       "      <td>0.258917</td>\n",
       "      <td>0.469239</td>\n",
       "      <td>6.844714</td>\n",
       "    </tr>\n",
       "    <tr>\n",
       "      <th>40</th>\n",
       "      <td>0.244026</td>\n",
       "      <td>0.269073</td>\n",
       "      <td>0.389099</td>\n",
       "      <td>6.941994</td>\n",
       "    </tr>\n",
       "    <tr>\n",
       "      <th>80</th>\n",
       "      <td>0.244296</td>\n",
       "      <td>0.269371</td>\n",
       "      <td>0.310847</td>\n",
       "      <td>7.028955</td>\n",
       "    </tr>\n",
       "    <tr>\n",
       "      <th>160</th>\n",
       "      <td>0.237698</td>\n",
       "      <td>0.262096</td>\n",
       "      <td>0.246087</td>\n",
       "      <td>7.112617</td>\n",
       "    </tr>\n",
       "  </tbody>\n",
       "</table>\n",
       "</div>"
      ],
      "text/plain": [
       "     Precision    Recall  Coverage  Popularity\n",
       "5     0.187374  0.206607  0.709120    6.571688\n",
       "10    0.215727  0.237871  0.576902    6.727978\n",
       "20    0.234815  0.258917  0.469239    6.844714\n",
       "40    0.244026  0.269073  0.389099    6.941994\n",
       "80    0.244296  0.269371  0.310847    7.028955\n",
       "160   0.237698  0.262096  0.246087    7.112617"
      ]
     },
     "execution_count": 8,
     "metadata": {},
     "output_type": "execute_result"
    }
   ],
   "source": [
    "pd.DataFrame(\n",
    "        data = evals,\n",
    "        index = K_list,\n",
    "        columns = [\"Precision\",\"Recall\",\"Coverage\",\"Popularity\"]\n",
    ")"
   ]
  },
  {
   "cell_type": "markdown",
   "metadata": {},
   "source": [
    "### USER-IIF"
   ]
  },
  {
   "cell_type": "markdown",
   "metadata": {},
   "source": [
    "USER-IIF在UserCF的基础上考虑了物品的流行度，触使算法推荐比较冷门的物品，相似度：\n",
    "$$w_{uv}=\n",
    "\\frac{\\sum_{i\\in{N(u)\\bigcap{N(v)}}}{\\frac{1}{log(1 + |N(i)|)}}}\n",
    "{\\sqrt{|N(u)||N(v)|}}$$\n",
    "\n",
    "物品的流行度越大，惩罚的力度越大"
   ]
  },
  {
   "cell_type": "markdown",
   "metadata": {},
   "source": [
    "#### Load Data"
   ]
  },
  {
   "cell_type": "code",
   "execution_count": 2,
   "metadata": {
    "ExecuteTime": {
     "end_time": "2018-06-15T11:29:27.588340Z",
     "start_time": "2018-06-15T11:29:25.232789Z"
    }
   },
   "outputs": [],
   "source": [
    "from main.chapter2 import useriif\n",
    "from imp import reload\n",
    "from main.util import movielen_reader\n",
    "\n",
    "trainset,testset = movielen_reader.read_rating_data(train_rate = 0.8)"
   ]
  },
  {
   "cell_type": "markdown",
   "metadata": {},
   "source": [
    "#### Training"
   ]
  },
  {
   "cell_type": "code",
   "execution_count": 3,
   "metadata": {
    "ExecuteTime": {
     "end_time": "2018-06-15T11:29:42.774628Z",
     "start_time": "2018-06-15T11:29:33.608982Z"
    }
   },
   "outputs": [
    {
     "name": "stderr",
     "output_type": "stream",
     "text": [
      "开始训练模型\n",
      "开始载入用户协同矩阵....\n",
      "载入协同过滤矩阵完成\n",
      "开始保存协同过滤矩阵\n",
      "保存协同过滤矩阵完成\n"
     ]
    }
   ],
   "source": [
    "user_iif = useriif.UserIIF()\n",
    "user_iif.train(trainset)"
   ]
  },
  {
   "cell_type": "markdown",
   "metadata": {},
   "source": [
    "#### Evaluation"
   ]
  },
  {
   "cell_type": "code",
   "execution_count": 8,
   "metadata": {
    "ExecuteTime": {
     "end_time": "2018-06-15T11:30:27.513547Z",
     "start_time": "2018-06-15T11:30:27.376203Z"
    }
   },
   "outputs": [],
   "source": [
    "test = dict()\n",
    "for user,item,_ in testset:\n",
    "    test.setdefault(user,list())\n",
    "    test[user].append(item)"
   ]
  },
  {
   "cell_type": "code",
   "execution_count": 9,
   "metadata": {
    "ExecuteTime": {
     "end_time": "2018-06-15T11:30:28.456404Z",
     "start_time": "2018-06-15T11:30:28.453024Z"
    }
   },
   "outputs": [],
   "source": [
    "def train_popularity(train):\n",
    "    \"\"\"计算训练集的流行度\"\"\"\n",
    "    train_popularity = dict()\n",
    "    for user,item,_ in train:\n",
    "        train_popularity.setdefault(item,0)\n",
    "        train_popularity[item] += 1\n",
    "    return train_popularity"
   ]
  },
  {
   "cell_type": "code",
   "execution_count": 10,
   "metadata": {
    "ExecuteTime": {
     "end_time": "2018-06-15T11:30:29.456042Z",
     "start_time": "2018-06-15T11:30:29.451844Z"
    }
   },
   "outputs": [],
   "source": [
    "from main.util import metric\n",
    "from main.util import movielen_reader\n",
    "import pandas as pd\n",
    "\n",
    "def evaluate(N,K):\n",
    "    \"\"\"评价模型\n",
    "        Args:\n",
    "            N:　　　　推荐的商品个数\n",
    "            K:　　　　搜索邻近的用户个数\n",
    "        Return:\n",
    "            精确率,召回率,覆盖率,流行度\n",
    "    \"\"\"\n",
    "    recommens = user_iif.recommend_users(test.keys(),N = N,K = K)\n",
    "    all_items = movielen_reader.all_items()\n",
    "    item_popularity = train_popularity(trainset)\n",
    "\n",
    "    recall = metric.recall(recommends = recommens,tests=test)\n",
    "    precision = metric.precision(recommends = recommens,tests = test)\n",
    "    coverage = metric.coverage(recommends = recommens,all_items = all_items)\n",
    "    popularity = metric.popularity(item_popular = item_popularity,recommends = recommens)\n",
    "    \n",
    "    return precision,recall,coverage,popularity\n"
   ]
  },
  {
   "cell_type": "code",
   "execution_count": 11,
   "metadata": {
    "ExecuteTime": {
     "end_time": "2018-06-15T11:34:19.215737Z",
     "start_time": "2018-06-15T11:30:30.360259Z"
    }
   },
   "outputs": [],
   "source": [
    "N = 30   #表示推荐的商品个数\n",
    "K_list = [5,10,20,40,80,160]  #表示临近用户的list\n",
    "evals = list()\n",
    "\n",
    "for k in K_list:\n",
    "    single_eval = evaluate(N = N,K = k)\n",
    "    evals.append(single_eval)"
   ]
  },
  {
   "cell_type": "code",
   "execution_count": 13,
   "metadata": {
    "ExecuteTime": {
     "end_time": "2018-06-15T11:35:44.571572Z",
     "start_time": "2018-06-15T11:35:44.372938Z"
    }
   },
   "outputs": [
    {
     "data": {
      "text/html": [
       "<div>\n",
       "<style scoped>\n",
       "    .dataframe tbody tr th:only-of-type {\n",
       "        vertical-align: middle;\n",
       "    }\n",
       "\n",
       "    .dataframe tbody tr th {\n",
       "        vertical-align: top;\n",
       "    }\n",
       "\n",
       "    .dataframe thead th {\n",
       "        text-align: right;\n",
       "    }\n",
       "</style>\n",
       "<table border=\"1\" class=\"dataframe\">\n",
       "  <thead>\n",
       "    <tr style=\"text-align: right;\">\n",
       "      <th></th>\n",
       "      <th>Precision</th>\n",
       "      <th>Recall</th>\n",
       "      <th>Coverage</th>\n",
       "      <th>Popularity</th>\n",
       "    </tr>\n",
       "  </thead>\n",
       "  <tbody>\n",
       "    <tr>\n",
       "      <th>5</th>\n",
       "      <td>0.182898</td>\n",
       "      <td>0.201248</td>\n",
       "      <td>0.730977</td>\n",
       "      <td>6.516392</td>\n",
       "    </tr>\n",
       "    <tr>\n",
       "      <th>10</th>\n",
       "      <td>0.211873</td>\n",
       "      <td>0.233129</td>\n",
       "      <td>0.586077</td>\n",
       "      <td>6.676015</td>\n",
       "    </tr>\n",
       "    <tr>\n",
       "      <th>20</th>\n",
       "      <td>0.232868</td>\n",
       "      <td>0.256231</td>\n",
       "      <td>0.486239</td>\n",
       "      <td>6.800656</td>\n",
       "    </tr>\n",
       "    <tr>\n",
       "      <th>40</th>\n",
       "      <td>0.243602</td>\n",
       "      <td>0.268042</td>\n",
       "      <td>0.409336</td>\n",
       "      <td>6.904974</td>\n",
       "    </tr>\n",
       "    <tr>\n",
       "      <th>80</th>\n",
       "      <td>0.245730</td>\n",
       "      <td>0.270383</td>\n",
       "      <td>0.331624</td>\n",
       "      <td>7.000024</td>\n",
       "    </tr>\n",
       "    <tr>\n",
       "      <th>160</th>\n",
       "      <td>0.240250</td>\n",
       "      <td>0.264353</td>\n",
       "      <td>0.260119</td>\n",
       "      <td>7.091465</td>\n",
       "    </tr>\n",
       "  </tbody>\n",
       "</table>\n",
       "</div>"
      ],
      "text/plain": [
       "     Precision    Recall  Coverage  Popularity\n",
       "5     0.182898  0.201248  0.730977    6.516392\n",
       "10    0.211873  0.233129  0.586077    6.676015\n",
       "20    0.232868  0.256231  0.486239    6.800656\n",
       "40    0.243602  0.268042  0.409336    6.904974\n",
       "80    0.245730  0.270383  0.331624    7.000024\n",
       "160   0.240250  0.264353  0.260119    7.091465"
      ]
     },
     "execution_count": 13,
     "metadata": {},
     "output_type": "execute_result"
    }
   ],
   "source": [
    "pd.DataFrame(\n",
    "        data = evals,\n",
    "        index = K_list,\n",
    "        columns = [\"Precision\",\"Recall\",\"Coverage\",\"Popularity\"]\n",
    ")"
   ]
  },
  {
   "cell_type": "markdown",
   "metadata": {},
   "source": [
    "### ITEMCF"
   ]
  },
  {
   "cell_type": "markdown",
   "metadata": {},
   "source": [
    "#### Load Data"
   ]
  },
  {
   "cell_type": "code",
   "execution_count": 3,
   "metadata": {
    "ExecuteTime": {
     "end_time": "2018-06-24T04:57:59.584902Z",
     "start_time": "2018-06-24T04:57:57.393380Z"
    }
   },
   "outputs": [],
   "source": [
    "from main.chapter2 import itemcf\n",
    "from imp import reload\n",
    "from main.util import movielen_reader\n",
    "reload(itemcf)\n",
    "reload(movielen_reader)\n",
    "\n",
    "trainset,testset = movielen_reader.read_rating_data(train_rate = 0.8)"
   ]
  },
  {
   "cell_type": "markdown",
   "metadata": {},
   "source": [
    "#### Training"
   ]
  },
  {
   "cell_type": "code",
   "execution_count": 4,
   "metadata": {
    "ExecuteTime": {
     "end_time": "2018-06-24T04:58:13.410432Z",
     "start_time": "2018-06-24T04:58:01.175578Z"
    }
   },
   "outputs": [
    {
     "name": "stderr",
     "output_type": "stream",
     "text": [
      "开始训练模型\n",
      "开始载入用户协同矩阵....\n",
      "载入协同过滤矩阵完成\n",
      "开始保存协同过滤矩阵\n",
      "IOPub data rate exceeded.\n",
      "The notebook server will temporarily stop sending output\n",
      "to the client in order to avoid crashing it.\n",
      "To change this limit, set the config variable\n",
      "`--NotebookApp.iopub_data_rate_limit`.\n",
      "\n",
      "Current values:\n",
      "NotebookApp.iopub_data_rate_limit=1000000.0 (bytes/sec)\n",
      "NotebookApp.rate_limit_window=3.0 (secs)\n",
      "\n",
      "保存协同过滤矩阵完成\n"
     ]
    }
   ],
   "source": [
    "item_cf = itemcf.ItemCF()\n",
    "item_cf.train(trainset)"
   ]
  },
  {
   "cell_type": "markdown",
   "metadata": {},
   "source": [
    "#### Evaluation"
   ]
  },
  {
   "cell_type": "code",
   "execution_count": 5,
   "metadata": {
    "ExecuteTime": {
     "end_time": "2018-06-24T04:58:55.847783Z",
     "start_time": "2018-06-24T04:58:55.712433Z"
    }
   },
   "outputs": [],
   "source": [
    "test = dict()\n",
    "for user,item,_ in testset:\n",
    "    test.setdefault(user,list())\n",
    "    test[user].append(item)"
   ]
  },
  {
   "cell_type": "code",
   "execution_count": 6,
   "metadata": {
    "ExecuteTime": {
     "end_time": "2018-06-24T04:58:56.539084Z",
     "start_time": "2018-06-24T04:58:56.535693Z"
    }
   },
   "outputs": [],
   "source": [
    "def train_popularity(train):\n",
    "    \"\"\"计算训练集的流行度\"\"\"\n",
    "    train_popularity = dict()\n",
    "    for user,item,_ in train:\n",
    "        train_popularity.setdefault(item,0)\n",
    "        train_popularity[item] += 1\n",
    "    return train_popularity"
   ]
  },
  {
   "cell_type": "code",
   "execution_count": 7,
   "metadata": {
    "ExecuteTime": {
     "end_time": "2018-06-24T04:59:01.807657Z",
     "start_time": "2018-06-24T04:59:01.763366Z"
    }
   },
   "outputs": [],
   "source": [
    "from main.util import metric\n",
    "from main.util import movielen_reader\n",
    "import pandas as pd\n",
    "\n",
    "def evaluate(N,K):\n",
    "    \"\"\"评价模型\n",
    "        Args:\n",
    "            N:　　　　推荐的商品个数\n",
    "            K:　　　　搜索邻近的用户个数\n",
    "        Return:\n",
    "            精确率,召回率,覆盖率,流行度\n",
    "    \"\"\"\n",
    "    recommens = item_cf.recommend_users(test.keys(),N = N,K = K)\n",
    "    all_items = movielen_reader.all_items()\n",
    "    item_popularity = train_popularity(trainset)\n",
    "\n",
    "    recall = metric.recall(recommends = recommens,tests=test)\n",
    "    precision = metric.precision(recommends = recommens,tests = test)\n",
    "    coverage = metric.coverage(recommends = recommens,all_items = all_items)\n",
    "    popularity = metric.popularity(item_popular = item_popularity,recommends = recommens)\n",
    "    \n",
    "    return precision,recall,coverage,popularity\n"
   ]
  },
  {
   "cell_type": "code",
   "execution_count": 9,
   "metadata": {
    "ExecuteTime": {
     "end_time": "2018-06-24T06:53:02.939197Z",
     "start_time": "2018-06-24T05:18:24.156073Z"
    }
   },
   "outputs": [],
   "source": [
    "N = 30   #表示推荐的商品个数\n",
    "K_list = [5,10,20,40,80,160]  #表示临近用户的list\n",
    "evals = list()\n",
    "\n",
    "for k in K_list:\n",
    "    single_eval = evaluate(N = N,K = k)\n",
    "    evals.append(single_eval)"
   ]
  },
  {
   "cell_type": "code",
   "execution_count": 10,
   "metadata": {
    "ExecuteTime": {
     "end_time": "2018-06-24T06:54:09.583024Z",
     "start_time": "2018-06-24T06:54:09.296685Z"
    }
   },
   "outputs": [
    {
     "data": {
      "text/html": [
       "<div>\n",
       "<style scoped>\n",
       "    .dataframe tbody tr th:only-of-type {\n",
       "        vertical-align: middle;\n",
       "    }\n",
       "\n",
       "    .dataframe tbody tr th {\n",
       "        vertical-align: top;\n",
       "    }\n",
       "\n",
       "    .dataframe thead th {\n",
       "        text-align: right;\n",
       "    }\n",
       "</style>\n",
       "<table border=\"1\" class=\"dataframe\">\n",
       "  <thead>\n",
       "    <tr style=\"text-align: right;\">\n",
       "      <th></th>\n",
       "      <th>Precision</th>\n",
       "      <th>Recall</th>\n",
       "      <th>Coverage</th>\n",
       "      <th>Popularity</th>\n",
       "    </tr>\n",
       "  </thead>\n",
       "  <tbody>\n",
       "    <tr>\n",
       "      <th>5</th>\n",
       "      <td>0.189918</td>\n",
       "      <td>0.209924</td>\n",
       "      <td>0.399622</td>\n",
       "      <td>6.890241</td>\n",
       "    </tr>\n",
       "    <tr>\n",
       "      <th>10</th>\n",
       "      <td>0.198071</td>\n",
       "      <td>0.218936</td>\n",
       "      <td>0.358877</td>\n",
       "      <td>6.994376</td>\n",
       "    </tr>\n",
       "    <tr>\n",
       "      <th>20</th>\n",
       "      <td>0.196668</td>\n",
       "      <td>0.217385</td>\n",
       "      <td>0.297086</td>\n",
       "      <td>7.091567</td>\n",
       "    </tr>\n",
       "    <tr>\n",
       "      <th>40</th>\n",
       "      <td>0.191731</td>\n",
       "      <td>0.211928</td>\n",
       "      <td>0.259039</td>\n",
       "      <td>7.167786</td>\n",
       "    </tr>\n",
       "    <tr>\n",
       "      <th>80</th>\n",
       "      <td>0.181504</td>\n",
       "      <td>0.200624</td>\n",
       "      <td>0.230167</td>\n",
       "      <td>7.212047</td>\n",
       "    </tr>\n",
       "    <tr>\n",
       "      <th>160</th>\n",
       "      <td>0.170203</td>\n",
       "      <td>0.188132</td>\n",
       "      <td>0.190502</td>\n",
       "      <td>7.212751</td>\n",
       "    </tr>\n",
       "  </tbody>\n",
       "</table>\n",
       "</div>"
      ],
      "text/plain": [
       "     Precision    Recall  Coverage  Popularity\n",
       "5     0.189918  0.209924  0.399622    6.890241\n",
       "10    0.198071  0.218936  0.358877    6.994376\n",
       "20    0.196668  0.217385  0.297086    7.091567\n",
       "40    0.191731  0.211928  0.259039    7.167786\n",
       "80    0.181504  0.200624  0.230167    7.212047\n",
       "160   0.170203  0.188132  0.190502    7.212751"
      ]
     },
     "execution_count": 10,
     "metadata": {},
     "output_type": "execute_result"
    }
   ],
   "source": [
    "pd.DataFrame(\n",
    "        data = evals,\n",
    "        index = K_list,\n",
    "        columns = [\"Precision\",\"Recall\",\"Coverage\",\"Popularity\"]\n",
    ")"
   ]
  },
  {
   "cell_type": "markdown",
   "metadata": {},
   "source": [
    "### ITEMCF-IUF"
   ]
  },
  {
   "cell_type": "markdown",
   "metadata": {},
   "source": [
    "#### Load Data"
   ]
  },
  {
   "cell_type": "code",
   "execution_count": 2,
   "metadata": {
    "ExecuteTime": {
     "end_time": "2018-06-28T04:05:17.479956Z",
     "start_time": "2018-06-28T04:05:15.224464Z"
    }
   },
   "outputs": [],
   "source": [
    "from imp import reload\n",
    "from main.util import movielen_reader\n",
    "\n",
    "trainset,testset = movielen_reader.read_rating_data(train_rate = 0.8)"
   ]
  },
  {
   "cell_type": "markdown",
   "metadata": {},
   "source": [
    "#### Train Model"
   ]
  },
  {
   "cell_type": "code",
   "execution_count": 5,
   "metadata": {
    "ExecuteTime": {
     "end_time": "2018-06-28T04:10:07.625702Z",
     "start_time": "2018-06-28T04:06:20.030071Z"
    }
   },
   "outputs": [
    {
     "name": "stderr",
     "output_type": "stream",
     "text": [
      "开始训练模型\n",
      "开始载入用户协同矩阵....\n",
      "载入用户协同过滤矩阵失败，重新计算协同过滤矩阵\n",
      "开始保存协同过滤矩阵\n",
      "IOPub data rate exceeded.\n",
      "The notebook server will temporarily stop sending output\n",
      "to the client in order to avoid crashing it.\n",
      "To change this limit, set the config variable\n",
      "`--NotebookApp.iopub_data_rate_limit`.\n",
      "\n",
      "Current values:\n",
      "NotebookApp.iopub_data_rate_limit=1000000.0 (bytes/sec)\n",
      "NotebookApp.rate_limit_window=3.0 (secs)\n",
      "\n",
      "保存协同过滤矩阵完成\n"
     ]
    }
   ],
   "source": [
    "from main.chapter2 import itemiuf\n",
    "\n",
    "item_iuf = itemiuf.ItemIUF()\n",
    "item_iuf.train(trainset)"
   ]
  },
  {
   "cell_type": "markdown",
   "metadata": {},
   "source": [
    "#### Evaluation"
   ]
  },
  {
   "cell_type": "code",
   "execution_count": 6,
   "metadata": {
    "ExecuteTime": {
     "end_time": "2018-06-28T04:10:09.043722Z",
     "start_time": "2018-06-28T04:10:08.888442Z"
    }
   },
   "outputs": [],
   "source": [
    "test = dict()\n",
    "for user,item,_ in testset:\n",
    "    test.setdefault(user,list())\n",
    "    test[user].append(item)"
   ]
  },
  {
   "cell_type": "code",
   "execution_count": 7,
   "metadata": {
    "ExecuteTime": {
     "end_time": "2018-06-28T04:10:10.217420Z",
     "start_time": "2018-06-28T04:10:10.214946Z"
    }
   },
   "outputs": [],
   "source": [
    "def train_popularity(train):\n",
    "    \"\"\"计算训练集的流行度\"\"\"\n",
    "    train_popularity = dict()\n",
    "    for user,item,_ in train:\n",
    "        train_popularity.setdefault(item,0)\n",
    "        train_popularity[item] += 1\n",
    "    return train_popularity"
   ]
  },
  {
   "cell_type": "code",
   "execution_count": 8,
   "metadata": {
    "ExecuteTime": {
     "end_time": "2018-06-28T04:10:11.307811Z",
     "start_time": "2018-06-28T04:10:11.271754Z"
    }
   },
   "outputs": [],
   "source": [
    "from main.util import metric\n",
    "from main.util import movielen_reader\n",
    "import pandas as pd\n",
    "\n",
    "def evaluate(N,K):\n",
    "    \"\"\"评价模型\n",
    "        Args:\n",
    "            N:　　　　推荐的商品个数\n",
    "            K:　　　　搜索邻近的用户个数\n",
    "        Return:\n",
    "            精确率,召回率,覆盖率,流行度\n",
    "    \"\"\"\n",
    "    recommens = item_iuf.recommend_users(test.keys(),N = N,K = K)\n",
    "    all_items = movielen_reader.all_items()\n",
    "    item_popularity = train_popularity(trainset)\n",
    "\n",
    "    recall = metric.recall(recommends = recommens,tests=test)\n",
    "    precision = metric.precision(recommends = recommens,tests = test)\n",
    "    coverage = metric.coverage(recommends = recommens,all_items = all_items)\n",
    "    popularity = metric.popularity(item_popular = item_popularity,recommends = recommens)\n",
    "    \n",
    "    return precision,recall,coverage,popularity"
   ]
  },
  {
   "cell_type": "code",
   "execution_count": 9,
   "metadata": {
    "ExecuteTime": {
     "end_time": "2018-06-28T06:06:46.794630Z",
     "start_time": "2018-06-28T04:11:06.302229Z"
    }
   },
   "outputs": [],
   "source": [
    "N = 30   #表示推荐的商品个数\n",
    "K_list = [5,10,20,40,80,160]  #表示临近用户的list\n",
    "evals = list()\n",
    "\n",
    "for k in K_list:\n",
    "    single_eval = evaluate(N = N,K = k)\n",
    "    evals.append(single_eval)"
   ]
  },
  {
   "cell_type": "code",
   "execution_count": 10,
   "metadata": {
    "ExecuteTime": {
     "end_time": "2018-06-28T06:08:25.038178Z",
     "start_time": "2018-06-28T06:08:24.636614Z"
    }
   },
   "outputs": [
    {
     "data": {
      "text/html": [
       "<div>\n",
       "<style scoped>\n",
       "    .dataframe tbody tr th:only-of-type {\n",
       "        vertical-align: middle;\n",
       "    }\n",
       "\n",
       "    .dataframe tbody tr th {\n",
       "        vertical-align: top;\n",
       "    }\n",
       "\n",
       "    .dataframe thead th {\n",
       "        text-align: right;\n",
       "    }\n",
       "</style>\n",
       "<table border=\"1\" class=\"dataframe\">\n",
       "  <thead>\n",
       "    <tr style=\"text-align: right;\">\n",
       "      <th></th>\n",
       "      <th>Precision</th>\n",
       "      <th>Recall</th>\n",
       "      <th>Coverage</th>\n",
       "      <th>Popularity</th>\n",
       "    </tr>\n",
       "  </thead>\n",
       "  <tbody>\n",
       "    <tr>\n",
       "      <th>5</th>\n",
       "      <td>0.195344</td>\n",
       "      <td>0.215921</td>\n",
       "      <td>0.385591</td>\n",
       "      <td>6.962440</td>\n",
       "    </tr>\n",
       "    <tr>\n",
       "      <th>10</th>\n",
       "      <td>0.201664</td>\n",
       "      <td>0.222907</td>\n",
       "      <td>0.339450</td>\n",
       "      <td>7.066032</td>\n",
       "    </tr>\n",
       "    <tr>\n",
       "      <th>20</th>\n",
       "      <td>0.198761</td>\n",
       "      <td>0.219698</td>\n",
       "      <td>0.279547</td>\n",
       "      <td>7.158352</td>\n",
       "    </tr>\n",
       "    <tr>\n",
       "      <th>40</th>\n",
       "      <td>0.193180</td>\n",
       "      <td>0.213530</td>\n",
       "      <td>0.245278</td>\n",
       "      <td>7.228507</td>\n",
       "    </tr>\n",
       "    <tr>\n",
       "      <th>80</th>\n",
       "      <td>0.183558</td>\n",
       "      <td>0.202894</td>\n",
       "      <td>0.216945</td>\n",
       "      <td>7.269082</td>\n",
       "    </tr>\n",
       "    <tr>\n",
       "      <th>160</th>\n",
       "      <td>0.174235</td>\n",
       "      <td>0.192589</td>\n",
       "      <td>0.186185</td>\n",
       "      <td>7.276031</td>\n",
       "    </tr>\n",
       "  </tbody>\n",
       "</table>\n",
       "</div>"
      ],
      "text/plain": [
       "     Precision    Recall  Coverage  Popularity\n",
       "5     0.195344  0.215921  0.385591    6.962440\n",
       "10    0.201664  0.222907  0.339450    7.066032\n",
       "20    0.198761  0.219698  0.279547    7.158352\n",
       "40    0.193180  0.213530  0.245278    7.228507\n",
       "80    0.183558  0.202894  0.216945    7.269082\n",
       "160   0.174235  0.192589  0.186185    7.276031"
      ]
     },
     "execution_count": 10,
     "metadata": {},
     "output_type": "execute_result"
    }
   ],
   "source": [
    "pd.DataFrame(\n",
    "        data = evals,\n",
    "        index = K_list,\n",
    "        columns = [\"Precision\",\"Recall\",\"Coverage\",\"Popularity\"]\n",
    ")"
   ]
  },
  {
   "cell_type": "markdown",
   "metadata": {},
   "source": [
    "### ITEMCF-NORM"
   ]
  },
  {
   "cell_type": "markdown",
   "metadata": {},
   "source": [
    "#### Load Data"
   ]
  },
  {
   "cell_type": "code",
   "execution_count": 2,
   "metadata": {
    "ExecuteTime": {
     "end_time": "2018-06-29T06:02:44.340866Z",
     "start_time": "2018-06-29T06:02:42.180519Z"
    }
   },
   "outputs": [],
   "source": [
    "from imp import reload\n",
    "from main.util import movielen_reader\n",
    "\n",
    "trainset,testset = movielen_reader.read_rating_data(train_rate = 0.8)"
   ]
  },
  {
   "cell_type": "markdown",
   "metadata": {},
   "source": [
    "#### Train Model"
   ]
  },
  {
   "cell_type": "code",
   "execution_count": 4,
   "metadata": {
    "ExecuteTime": {
     "end_time": "2018-06-29T06:05:56.824983Z",
     "start_time": "2018-06-29T06:03:29.076731Z"
    }
   },
   "outputs": [
    {
     "name": "stderr",
     "output_type": "stream",
     "text": [
      "开始训练模型\n",
      "开始载入用户协同矩阵....\n",
      "载入用户协同过滤矩阵失败，重新计算协同过滤矩阵\n",
      "开始保存协同过滤矩阵\n",
      "IOPub data rate exceeded.\n",
      "The notebook server will temporarily stop sending output\n",
      "to the client in order to avoid crashing it.\n",
      "To change this limit, set the config variable\n",
      "`--NotebookApp.iopub_data_rate_limit`.\n",
      "\n",
      "Current values:\n",
      "NotebookApp.iopub_data_rate_limit=1000000.0 (bytes/sec)\n",
      "NotebookApp.rate_limit_window=3.0 (secs)\n",
      "\n",
      "保存协同过滤矩阵完成\n"
     ]
    }
   ],
   "source": [
    "from main.chapter2 import itemnorm\n",
    "\n",
    "item_norm = itemnorm.ItemNorm()\n",
    "item_norm.train(trainset)"
   ]
  },
  {
   "cell_type": "markdown",
   "metadata": {},
   "source": [
    "#### Evaluation"
   ]
  },
  {
   "cell_type": "code",
   "execution_count": 5,
   "metadata": {
    "ExecuteTime": {
     "end_time": "2018-06-29T06:29:08.439586Z",
     "start_time": "2018-06-29T06:29:08.297597Z"
    }
   },
   "outputs": [],
   "source": [
    "test = dict()\n",
    "for user,item,_ in testset:\n",
    "    test.setdefault(user,list())\n",
    "    test[user].append(item)"
   ]
  },
  {
   "cell_type": "code",
   "execution_count": 6,
   "metadata": {
    "ExecuteTime": {
     "end_time": "2018-06-29T06:29:09.430942Z",
     "start_time": "2018-06-29T06:29:09.426925Z"
    }
   },
   "outputs": [],
   "source": [
    "def train_popularity(train):\n",
    "    \"\"\"计算训练集的流行度\"\"\"\n",
    "    train_popularity = dict()\n",
    "    for user,item,_ in train:\n",
    "        train_popularity.setdefault(item,0)\n",
    "        train_popularity[item] += 1\n",
    "    return train_popularity"
   ]
  },
  {
   "cell_type": "code",
   "execution_count": 7,
   "metadata": {
    "ExecuteTime": {
     "end_time": "2018-06-29T06:29:18.491211Z",
     "start_time": "2018-06-29T06:29:18.467304Z"
    }
   },
   "outputs": [],
   "source": [
    "from main.util import metric\n",
    "from main.util import movielen_reader\n",
    "import pandas as pd\n",
    "\n",
    "def evaluate(N,K):\n",
    "    \"\"\"评价模型\n",
    "        Args:\n",
    "            N:　　　　推荐的商品个数\n",
    "            K:　　　　搜索邻近的用户个数\n",
    "        Return:\n",
    "            精确率,召回率,覆盖率,流行度\n",
    "    \"\"\"\n",
    "    recommens = item_norm.recommend_users(test.keys(),N = N,K = K)\n",
    "    all_items = movielen_reader.all_items()\n",
    "    item_popularity = train_popularity(trainset)\n",
    "\n",
    "    recall = metric.recall(recommends = recommens,tests=test)\n",
    "    precision = metric.precision(recommends = recommens,tests = test)\n",
    "    coverage = metric.coverage(recommends = recommens,all_items = all_items)\n",
    "    popularity = metric.popularity(item_popular = item_popularity,recommends = recommens)\n",
    "    \n",
    "    return precision,recall,coverage,popularity"
   ]
  },
  {
   "cell_type": "code",
   "execution_count": 8,
   "metadata": {
    "ExecuteTime": {
     "end_time": "2018-06-29T08:04:23.103934Z",
     "start_time": "2018-06-29T06:29:19.630960Z"
    }
   },
   "outputs": [],
   "source": [
    "N = 30   #表示推荐的商品个数\n",
    "K_list = [5,10,20,40,80,160]  #表示临近用户的list\n",
    "evals = list()\n",
    "\n",
    "for k in K_list:\n",
    "    single_eval = evaluate(N = N,K = k)\n",
    "    evals.append(single_eval)"
   ]
  },
  {
   "cell_type": "code",
   "execution_count": 9,
   "metadata": {
    "ExecuteTime": {
     "end_time": "2018-06-29T08:53:33.162295Z",
     "start_time": "2018-06-29T08:53:32.914236Z"
    }
   },
   "outputs": [
    {
     "data": {
      "text/html": [
       "<div>\n",
       "<style scoped>\n",
       "    .dataframe tbody tr th:only-of-type {\n",
       "        vertical-align: middle;\n",
       "    }\n",
       "\n",
       "    .dataframe tbody tr th {\n",
       "        vertical-align: top;\n",
       "    }\n",
       "\n",
       "    .dataframe thead th {\n",
       "        text-align: right;\n",
       "    }\n",
       "</style>\n",
       "<table border=\"1\" class=\"dataframe\">\n",
       "  <thead>\n",
       "    <tr style=\"text-align: right;\">\n",
       "      <th></th>\n",
       "      <th>Precision</th>\n",
       "      <th>Recall</th>\n",
       "      <th>Coverage</th>\n",
       "      <th>Popularity</th>\n",
       "    </tr>\n",
       "  </thead>\n",
       "  <tbody>\n",
       "    <tr>\n",
       "      <th>5</th>\n",
       "      <td>0.189918</td>\n",
       "      <td>0.209924</td>\n",
       "      <td>0.399622</td>\n",
       "      <td>6.890218</td>\n",
       "    </tr>\n",
       "    <tr>\n",
       "      <th>10</th>\n",
       "      <td>0.198071</td>\n",
       "      <td>0.218936</td>\n",
       "      <td>0.359147</td>\n",
       "      <td>6.994348</td>\n",
       "    </tr>\n",
       "    <tr>\n",
       "      <th>20</th>\n",
       "      <td>0.196668</td>\n",
       "      <td>0.217385</td>\n",
       "      <td>0.297086</td>\n",
       "      <td>7.091567</td>\n",
       "    </tr>\n",
       "    <tr>\n",
       "      <th>40</th>\n",
       "      <td>0.191731</td>\n",
       "      <td>0.211928</td>\n",
       "      <td>0.259039</td>\n",
       "      <td>7.167786</td>\n",
       "    </tr>\n",
       "    <tr>\n",
       "      <th>80</th>\n",
       "      <td>0.181504</td>\n",
       "      <td>0.200624</td>\n",
       "      <td>0.230167</td>\n",
       "      <td>7.212047</td>\n",
       "    </tr>\n",
       "    <tr>\n",
       "      <th>160</th>\n",
       "      <td>0.170203</td>\n",
       "      <td>0.188132</td>\n",
       "      <td>0.190502</td>\n",
       "      <td>7.212751</td>\n",
       "    </tr>\n",
       "  </tbody>\n",
       "</table>\n",
       "</div>"
      ],
      "text/plain": [
       "     Precision    Recall  Coverage  Popularity\n",
       "5     0.189918  0.209924  0.399622    6.890218\n",
       "10    0.198071  0.218936  0.359147    6.994348\n",
       "20    0.196668  0.217385  0.297086    7.091567\n",
       "40    0.191731  0.211928  0.259039    7.167786\n",
       "80    0.181504  0.200624  0.230167    7.212047\n",
       "160   0.170203  0.188132  0.190502    7.212751"
      ]
     },
     "execution_count": 9,
     "metadata": {},
     "output_type": "execute_result"
    }
   ],
   "source": [
    "pd.DataFrame(\n",
    "        data = evals,\n",
    "        index = K_list,\n",
    "        columns = [\"Precision\",\"Recall\",\"Coverage\",\"Popularity\"]\n",
    ")"
   ]
  },
  {
   "cell_type": "markdown",
   "metadata": {},
   "source": [
    "# Chapter3"
   ]
  },
  {
   "cell_type": "markdown",
   "metadata": {},
   "source": [
    "# Chapter4"
   ]
  },
  {
   "cell_type": "markdown",
   "metadata": {},
   "source": [
    "## 标签流行度长尾趋势"
   ]
  },
  {
   "cell_type": "code",
   "execution_count": 4,
   "metadata": {
    "ExecuteTime": {
     "end_time": "2018-11-08T06:35:45.703025Z",
     "start_time": "2018-11-08T06:35:44.747941Z"
    }
   },
   "outputs": [
    {
     "data": {
      "text/plain": [
       "437593"
      ]
     },
     "execution_count": 4,
     "metadata": {},
     "output_type": "execute_result"
    }
   ],
   "source": [
    "from main.util import delicious_reader\n",
    "\n",
    "delicious_path = \"data/delicious-2k/user_taggedbookmarks-timestamps.dat\"\n",
    "\n",
    "data, _ = delicious_reader.split_data(filename=delicious_path, cv_folder=10,k=20)\n",
    "len(data)"
   ]
  },
  {
   "cell_type": "code",
   "execution_count": 3,
   "metadata": {
    "ExecuteTime": {
     "end_time": "2018-11-02T05:59:27.794886Z",
     "start_time": "2018-11-02T05:59:27.668724Z"
    }
   },
   "outputs": [],
   "source": [
    "from collections import defaultdict\n",
    "\n",
    "tags = defaultdict(lambda : 0)\n",
    "\n",
    "for user_id, bookmark_id, tag_id in data:\n",
    "    tags[tag_id] += 1"
   ]
  },
  {
   "cell_type": "code",
   "execution_count": 4,
   "metadata": {
    "ExecuteTime": {
     "end_time": "2018-11-02T05:59:29.846070Z",
     "start_time": "2018-11-02T05:59:29.625277Z"
    }
   },
   "outputs": [],
   "source": [
    "counts = list(tags.values())\n",
    "freqs = set(counts)\n",
    "\n",
    "tag_counts = defaultdict(lambda : 0)\n",
    "\n",
    "for freq in freqs:\n",
    "    tag_counts[freq] = counts.count(freq)"
   ]
  },
  {
   "cell_type": "code",
   "execution_count": 5,
   "metadata": {
    "ExecuteTime": {
     "end_time": "2018-11-02T05:59:31.862429Z",
     "start_time": "2018-11-02T05:59:31.467886Z"
    }
   },
   "outputs": [
    {
     "data": {
      "text/plain": [
       "Text(0,0.5,'Log Popularity Time')"
      ]
     },
     "execution_count": 5,
     "metadata": {},
     "output_type": "execute_result"
    },
    {
     "data": {
      "image/png": "[encoded data removed]",
      "text/plain": [
       "<Figure size 720x432 with 1 Axes>"
      ]
     },
     "metadata": {},
     "output_type": "display_data"
    }
   ],
   "source": [
    "sns.set_style(\"whitegrid\")\n",
    "plt.figure(figsize=(10, 6))\n",
    "\n",
    "popularity = np.log1p(list(tag_counts.keys()))\n",
    "popularity_time = np.log1p(list(tag_counts.values()))\n",
    "\n",
    "plt.scatter(popularity, popularity_time)\n",
    "plt.title(\"Log Popularity of Tags\")\n",
    "plt.xlabel(\"Log Popularity\")\n",
    "plt.ylabel(\"Log Popularity Time\")"
   ]
  },
  {
   "cell_type": "markdown",
   "metadata": {
    "ExecuteTime": {
     "end_time": "2018-10-28T08:30:11.290256Z",
     "start_time": "2018-10-28T08:30:11.279516Z"
    }
   },
   "source": [
    "## 基于标签的基本推荐"
   ]
  },
  {
   "cell_type": "markdown",
   "metadata": {},
   "source": [
    "### Load Data"
   ]
  },
  {
   "cell_type": "code",
   "execution_count": 2,
   "metadata": {
    "ExecuteTime": {
     "end_time": "2018-11-05T06:50:00.688422Z",
     "start_time": "2018-11-05T06:49:59.116764Z"
    }
   },
   "outputs": [],
   "source": [
    "from main.util.delicious_reader import split_data\n",
    "\n",
    "origin_train, origin_test = split_data(\n",
    "                filename=\"data/delicious-2k/user_taggedbookmarks-timestamps.dat\",\n",
    "                k=1,\n",
    "                cv_folder=10\n",
    ")"
   ]
  },
  {
   "cell_type": "code",
   "execution_count": 3,
   "metadata": {
    "ExecuteTime": {
     "end_time": "2018-11-05T06:50:07.962313Z",
     "start_time": "2018-11-05T06:50:07.958640Z"
    }
   },
   "outputs": [
    {
     "name": "stdout",
     "output_type": "stream",
     "text": [
      "Len Train : 397695,Len Test : 39898\n"
     ]
    }
   ],
   "source": [
    "print(\"Len Train : {train_count},Len Test : {test_count}\".\n",
    "      format(train_count = len(origin_train), test_count=len(origin_test)))"
   ]
  },
  {
   "cell_type": "markdown",
   "metadata": {},
   "source": [
    "### Training"
   ]
  },
  {
   "cell_type": "code",
   "execution_count": 4,
   "metadata": {
    "ExecuteTime": {
     "end_time": "2018-11-05T06:50:14.080646Z",
     "start_time": "2018-11-05T06:50:13.597786Z"
    }
   },
   "outputs": [],
   "source": [
    "from main.chapter4.base_rec import BaseRec\n",
    "from main.chapter4 import base_rec\n",
    "from imp import reload\n",
    "reload(base_rec)\n",
    "\n",
    "base_model = BaseRec()\n",
    "base_model.train(origin_data=origin_train)"
   ]
  },
  {
   "cell_type": "markdown",
   "metadata": {},
   "source": [
    "### Evaluation"
   ]
  },
  {
   "cell_type": "markdown",
   "metadata": {},
   "source": [
    "#### 整理测试集"
   ]
  },
  {
   "cell_type": "code",
   "execution_count": 5,
   "metadata": {
    "ExecuteTime": {
     "end_time": "2018-11-05T06:50:17.190266Z",
     "start_time": "2018-11-05T06:50:17.162830Z"
    }
   },
   "outputs": [],
   "source": [
    "test = dict()\n",
    "for user_id, item_id, tag_id in origin_test:\n",
    "    test.setdefault(user_id,[])\n",
    "    test[user_id].append(item_id)"
   ]
  },
  {
   "cell_type": "markdown",
   "metadata": {},
   "source": [
    "#### 计算训练集的流行度"
   ]
  },
  {
   "cell_type": "code",
   "execution_count": 15,
   "metadata": {
    "ExecuteTime": {
     "end_time": "2018-11-26T07:20:30.429050Z",
     "start_time": "2018-11-26T07:20:30.253928Z"
    },
    "init_cell": true
   },
   "outputs": [],
   "source": [
    "def popularity(data):\n",
    "    \"\"\"计算数据的流行度\n",
    "    \n",
    "    :param data: tuple(int,int,int)\n",
    "        数据集（user_id, item_id, tag_id）\n",
    "    :return: dict{int, int}\n",
    "        流行度字典{item_id:流行度}\n",
    "    \"\"\"\n",
    "    item_popularity = dict()\n",
    "    for user_id, item_id, tag_id in data:\n",
    "        item_popularity.setdefault(item_id, 0)\n",
    "        item_popularity[item_id] += 1\n",
    "    return item_popularity"
   ]
  },
  {
   "cell_type": "code",
   "execution_count": null,
   "metadata": {},
   "outputs": [],
   "source": [
    "# 计算训练集的流行度\n",
    "train_item_popularity = popularity(origin_train)"
   ]
  },
  {
   "cell_type": "markdown",
   "metadata": {},
   "source": [
    "#### 找出所有商品ID（用于计算覆盖率）"
   ]
  },
  {
   "cell_type": "code",
   "execution_count": 7,
   "metadata": {
    "ExecuteTime": {
     "end_time": "2018-11-05T06:50:22.014858Z",
     "start_time": "2018-11-05T06:50:21.900330Z"
    }
   },
   "outputs": [],
   "source": [
    "all_items = set()\n",
    "\n",
    "for user_id, item_id, tag_id in origin_train:\n",
    "    all_items.add(item_id)\n",
    "for user_id, item_id, tag_id in origin_test:\n",
    "    all_items.add(item_id)"
   ]
  },
  {
   "cell_type": "code",
   "execution_count": 16,
   "metadata": {
    "ExecuteTime": {
     "end_time": "2018-11-26T07:20:30.604538Z",
     "start_time": "2018-11-26T07:20:30.431950Z"
    },
    "init_cell": true
   },
   "outputs": [],
   "source": [
    "from main.util import metric\n",
    "\n",
    "def evaluation(test,recommend):\n",
    "    \"\"\"评价\n",
    "    Args:\n",
    "        test: dict {user_id : [买过的商品1，买过的商品2,...]}\n",
    "            测试集\n",
    "        recommend:dict {user_id : [推荐的商品1，推荐的商品2,...]}\n",
    "            测试集推荐结果\n",
    "    Return: tuple\n",
    "        (precision,recall,coverage,popularity)\n",
    "    \"\"\"\n",
    "    precision = metric.precision(recommends=recommend, tests=test)\n",
    "    recall = metric.recall(recommends=recommend, tests=test)\n",
    "    coverage = metric.coverage(all_items=all_items, recommends=recommend)\n",
    "    popularity = metric.popularity(item_popular=train_item_popularity, recommends=recommend)\n",
    "    \n",
    "    return precision,recall,coverage,popularity\n"
   ]
  },
  {
   "cell_type": "code",
   "execution_count": 9,
   "metadata": {
    "ExecuteTime": {
     "end_time": "2018-11-05T06:55:11.122015Z",
     "start_time": "2018-11-05T06:50:28.846362Z"
    }
   },
   "outputs": [
    {
     "name": "stdout",
     "output_type": "stream",
     "text": [
      "Precision : 0.0004402100430776971\n",
      "Recall : 0.0003961965134706815\n",
      "Coverage : 0.06194472935296072\n",
      "Popularity : 3.7644381689807713\n"
     ]
    }
   ],
   "source": [
    "recommend_count = 20\n",
    "\n",
    "recommend_users = list(test.keys())\n",
    "recommends = base_model.recommend_users(\n",
    "                users=recommend_users,\n",
    "                recommend_count= recommend_count\n",
    ")\n",
    "precision, recall, coverage, popularity = evaluation(test, recommends)\n",
    "\n",
    "print(\"Precision : {}\".format(precision))\n",
    "print(\"Recall : {}\".format(recall))\n",
    "print(\"Coverage : {}\".format(coverage))\n",
    "print(\"Popularity : {}\".format(popularity))"
   ]
  },
  {
   "cell_type": "markdown",
   "metadata": {},
   "source": [
    "## 基于TFIDF的改进"
   ]
  },
  {
   "cell_type": "markdown",
   "metadata": {},
   "source": [
    "### Load Data"
   ]
  },
  {
   "cell_type": "code",
   "execution_count": 26,
   "metadata": {
    "ExecuteTime": {
     "end_time": "2018-11-08T07:30:04.875478Z",
     "start_time": "2018-11-08T07:30:03.931945Z"
    }
   },
   "outputs": [],
   "source": [
    "from main.util.delicious_reader import split_data\n",
    "\n",
    "origin_train, origin_test = split_data(\n",
    "                filename=\"data/delicious-2k/user_taggedbookmarks-timestamps.dat\",\n",
    "                k=1,\n",
    "                cv_folder=10\n",
    ")"
   ]
  },
  {
   "cell_type": "code",
   "execution_count": 9,
   "metadata": {
    "ExecuteTime": {
     "end_time": "2018-11-08T06:55:51.771031Z",
     "start_time": "2018-11-08T06:55:51.767100Z"
    }
   },
   "outputs": [
    {
     "name": "stdout",
     "output_type": "stream",
     "text": [
      "Len Train : 397695,Len Test : 39898\n"
     ]
    }
   ],
   "source": [
    "print(\"Len Train : {train_count},Len Test : {test_count}\".\n",
    "      format(train_count = len(origin_train), test_count=len(origin_test)))"
   ]
  },
  {
   "cell_type": "markdown",
   "metadata": {},
   "source": [
    "### Training"
   ]
  },
  {
   "cell_type": "code",
   "execution_count": 27,
   "metadata": {
    "ExecuteTime": {
     "end_time": "2018-11-08T07:30:12.413312Z",
     "start_time": "2018-11-08T07:30:11.801086Z"
    }
   },
   "outputs": [],
   "source": [
    "from main.chapter4.TFIDF_rec import TagBasedTFIDF\n",
    "from main.chapter4 import TFIDF_rec\n",
    "from imp import reload\n",
    "reload(TFIDF_rec)\n",
    "\n",
    "tfidf_model = TagBasedTFIDF()\n",
    "tfidf_model.train(origin_data=origin_train)"
   ]
  },
  {
   "cell_type": "markdown",
   "metadata": {},
   "source": [
    "### Evaluation"
   ]
  },
  {
   "cell_type": "markdown",
   "metadata": {},
   "source": [
    "#### 整理测试集"
   ]
  },
  {
   "cell_type": "code",
   "execution_count": 28,
   "metadata": {
    "ExecuteTime": {
     "end_time": "2018-11-08T07:30:14.331896Z",
     "start_time": "2018-11-08T07:30:14.297050Z"
    }
   },
   "outputs": [],
   "source": [
    "test = dict()\n",
    "for user_id, item_id, tag_id in origin_test:\n",
    "    test.setdefault(user_id,[])\n",
    "    test[user_id].append(item_id)\n",
    "    \n",
    "test = {user_id : set(items) for user_id, items in test.items()}\n",
    "    "
   ]
  },
  {
   "cell_type": "markdown",
   "metadata": {},
   "source": [
    "#### 计算训练集的流行度"
   ]
  },
  {
   "cell_type": "code",
   "execution_count": 29,
   "metadata": {
    "ExecuteTime": {
     "end_time": "2018-11-08T07:30:16.120402Z",
     "start_time": "2018-11-08T07:30:16.115957Z"
    }
   },
   "outputs": [],
   "source": [
    "def popularity(data):\n",
    "    \"\"\"计算数据的流行度\n",
    "    \n",
    "    :param data: tuple(int,int,int)\n",
    "        数据集（user_id, item_id, tag_id）\n",
    "    :return: dict{int, int}\n",
    "        流行度字典{item_id:流行度}\n",
    "    \"\"\"\n",
    "    item_popularity = dict()\n",
    "    for user_id, item_id, tag_id in data:\n",
    "        item_popularity.setdefault(item_id, 0)\n",
    "        item_popularity[item_id] += 1\n",
    "    return item_popularity"
   ]
  },
  {
   "cell_type": "code",
   "execution_count": 30,
   "metadata": {
    "ExecuteTime": {
     "end_time": "2018-11-08T07:30:18.657112Z",
     "start_time": "2018-11-08T07:30:18.552096Z"
    }
   },
   "outputs": [],
   "source": [
    "# 计算训练集的流行度\n",
    "train_item_popularity = popularity(origin_train)"
   ]
  },
  {
   "cell_type": "markdown",
   "metadata": {},
   "source": [
    "####  找出所有商品（用于计算覆盖率）"
   ]
  },
  {
   "cell_type": "code",
   "execution_count": 31,
   "metadata": {
    "ExecuteTime": {
     "end_time": "2018-11-08T07:30:22.663442Z",
     "start_time": "2018-11-08T07:30:22.556161Z"
    }
   },
   "outputs": [],
   "source": [
    "all_items = set()\n",
    "\n",
    "for user_id, item_id, tag_id in origin_train:\n",
    "    all_items.add(item_id)\n",
    "for user_id, item_id, tag_id in origin_test:\n",
    "    all_items.add(item_id)"
   ]
  },
  {
   "cell_type": "code",
   "execution_count": 32,
   "metadata": {
    "ExecuteTime": {
     "end_time": "2018-11-08T07:30:25.702113Z",
     "start_time": "2018-11-08T07:30:25.694264Z"
    }
   },
   "outputs": [],
   "source": [
    "from main.util import metric\n",
    "\n",
    "def evaluation(test,recommend):\n",
    "    \"\"\"评价\n",
    "    Args:\n",
    "        test: dict {user_id : [买过的商品1，买过的商品2,...]}\n",
    "            测试集\n",
    "        recommend:dict {user_id : [推荐的商品1，推荐的商品2,...]}\n",
    "            测试集推荐结果\n",
    "    Return: tuple\n",
    "        (precision,recall,coverage,popularity)\n",
    "    \"\"\"\n",
    "    precision = metric.precision(recommends=recommend, tests=test)\n",
    "    recall = metric.recall(recommends=recommend, tests=test)\n",
    "    coverage = metric.coverage(all_items=all_items, recommends=recommend)\n",
    "    popularity =   metric.popularity(\n",
    "        item_popular=train_item_popularity,recommends=recommend)\n",
    "    \n",
    "    return precision,recall,coverage,popularity"
   ]
  },
  {
   "cell_type": "code",
   "execution_count": 34,
   "metadata": {
    "ExecuteTime": {
     "end_time": "2018-11-08T07:34:35.136382Z",
     "start_time": "2018-11-08T07:30:46.538078Z"
    }
   },
   "outputs": [
    {
     "name": "stdout",
     "output_type": "stream",
     "text": [
      "Precision : 0.0004402100430776971\n",
      "Recall : 0.0003961965134706815\n",
      "Coverage : 0.08370050416768993\n",
      "Popularity : 3.671448547935441\n"
     ]
    }
   ],
   "source": [
    "recommend_count = 20\n",
    "\n",
    "recommend_users = list(test.keys())\n",
    "recommends = tfidf_model.recommend_users(\n",
    "                users=recommend_users,\n",
    "                recommend_count= recommend_count\n",
    ")\n",
    "precision, recall, coverage, popularity = evaluation(test, recommends)\n",
    "\n",
    "print(\"Precision : {}\".format(precision))\n",
    "print(\"Recall : {}\".format(recall))\n",
    "print(\"Coverage : {}\".format(coverage))\n",
    "print(\"Popularity : {}\".format(popularity))"
   ]
  },
  {
   "cell_type": "markdown",
   "metadata": {},
   "source": [
    "## TFIDF++"
   ]
  },
  {
   "cell_type": "markdown",
   "metadata": {},
   "source": [
    "### Load Data"
   ]
  },
  {
   "cell_type": "code",
   "execution_count": 35,
   "metadata": {
    "ExecuteTime": {
     "end_time": "2018-11-08T07:43:50.728846Z",
     "start_time": "2018-11-08T07:43:49.764986Z"
    }
   },
   "outputs": [],
   "source": [
    "from main.util.delicious_reader import split_data\n",
    "\n",
    "origin_train, origin_test = split_data(\n",
    "                filename=\"data/delicious-2k/user_taggedbookmarks-timestamps.dat\",\n",
    "                k=1,\n",
    "                cv_folder=10\n",
    ")"
   ]
  },
  {
   "cell_type": "code",
   "execution_count": 36,
   "metadata": {
    "ExecuteTime": {
     "end_time": "2018-11-08T07:44:03.771757Z",
     "start_time": "2018-11-08T07:44:03.765776Z"
    }
   },
   "outputs": [
    {
     "name": "stdout",
     "output_type": "stream",
     "text": [
      "Len Train : 397695,Len Test : 39898\n"
     ]
    }
   ],
   "source": [
    "print(\"Len Train : {train_count},Len Test : {test_count}\".\n",
    "      format(train_count = len(origin_train), test_count=len(origin_test)))"
   ]
  },
  {
   "cell_type": "markdown",
   "metadata": {},
   "source": [
    "### Training"
   ]
  },
  {
   "cell_type": "code",
   "execution_count": 38,
   "metadata": {
    "ExecuteTime": {
     "end_time": "2018-11-08T07:46:42.586302Z",
     "start_time": "2018-11-08T07:46:41.544689Z"
    }
   },
   "outputs": [],
   "source": [
    "from main.chapter4.TFIDF_plus_rec import TagBasedTFIDFPlus\n",
    "from main.chapter4 import TFIDF_plus_rec\n",
    "from imp import reload\n",
    "reload(TFIDF_plus_rec)\n",
    "\n",
    "tfidf_plus_model = TagBasedTFIDFPlus()\n",
    "tfidf_plus_model.train(origin_data=origin_train)"
   ]
  },
  {
   "cell_type": "markdown",
   "metadata": {},
   "source": [
    "### Evaluation"
   ]
  },
  {
   "cell_type": "markdown",
   "metadata": {},
   "source": [
    "#### 整理测试集"
   ]
  },
  {
   "cell_type": "code",
   "execution_count": 39,
   "metadata": {
    "ExecuteTime": {
     "end_time": "2018-11-08T07:47:30.485434Z",
     "start_time": "2018-11-08T07:47:30.445339Z"
    }
   },
   "outputs": [],
   "source": [
    "test = dict()\n",
    "for user_id, item_id, tag_id in origin_test:\n",
    "    test.setdefault(user_id,[])\n",
    "    test[user_id].append(item_id)\n",
    "    \n",
    "test = {user_id : set(items) for user_id, items in test.items()}"
   ]
  },
  {
   "cell_type": "markdown",
   "metadata": {},
   "source": [
    "#### 计算训练集的流行度"
   ]
  },
  {
   "cell_type": "code",
   "execution_count": 40,
   "metadata": {
    "ExecuteTime": {
     "end_time": "2018-11-08T07:48:02.204311Z",
     "start_time": "2018-11-08T07:48:02.200038Z"
    }
   },
   "outputs": [],
   "source": [
    "def popularity(data):\n",
    "    \"\"\"计算数据的流行度\n",
    "    \n",
    "    :param data: tuple(int,int,int)\n",
    "        数据集（user_id, item_id, tag_id）\n",
    "    :return: dict{int, int}\n",
    "        流行度字典{item_id:流行度}\n",
    "    \"\"\"\n",
    "    item_popularity = dict()\n",
    "    for user_id, item_id, tag_id in data:\n",
    "        item_popularity.setdefault(item_id, 0)\n",
    "        item_popularity[item_id] += 1\n",
    "    return item_popularity"
   ]
  },
  {
   "cell_type": "code",
   "execution_count": 41,
   "metadata": {
    "ExecuteTime": {
     "end_time": "2018-11-08T07:48:13.320044Z",
     "start_time": "2018-11-08T07:48:13.213616Z"
    }
   },
   "outputs": [],
   "source": [
    "# 计算训练集的流行度\n",
    "train_item_popularity = popularity(origin_train)"
   ]
  },
  {
   "cell_type": "markdown",
   "metadata": {},
   "source": [
    "#### 找出所有商品（用于计算覆盖率）"
   ]
  },
  {
   "cell_type": "code",
   "execution_count": 42,
   "metadata": {
    "ExecuteTime": {
     "end_time": "2018-11-08T07:48:38.991209Z",
     "start_time": "2018-11-08T07:48:38.895535Z"
    }
   },
   "outputs": [],
   "source": [
    "all_items = set()\n",
    "\n",
    "for user_id, item_id, tag_id in origin_train:\n",
    "    all_items.add(item_id)\n",
    "for user_id, item_id, tag_id in origin_test:\n",
    "    all_items.add(item_id)"
   ]
  },
  {
   "cell_type": "code",
   "execution_count": 43,
   "metadata": {
    "ExecuteTime": {
     "end_time": "2018-11-08T07:48:54.143307Z",
     "start_time": "2018-11-08T07:48:54.139218Z"
    }
   },
   "outputs": [],
   "source": [
    "from main.util import metric\n",
    "\n",
    "def evaluation(test,recommend):\n",
    "    \"\"\"评价\n",
    "    Args:\n",
    "        test: dict {user_id : [买过的商品1，买过的商品2,...]}\n",
    "            测试集\n",
    "        recommend:dict {user_id : [推荐的商品1，推荐的商品2,...]}\n",
    "            测试集推荐结果\n",
    "    Return: tuple\n",
    "        (precision,recall,coverage,popularity)\n",
    "    \"\"\"\n",
    "    precision = metric.precision(recommends=recommend, tests=test)\n",
    "    recall = metric.recall(recommends=recommend, tests=test)\n",
    "    coverage = metric.coverage(all_items=all_items, recommends=recommend)\n",
    "    popularity =   metric.popularity(\n",
    "        item_popular=train_item_popularity,recommends=recommend)\n",
    "    \n",
    "    return precision,recall,coverage,popularity"
   ]
  },
  {
   "cell_type": "code",
   "execution_count": 44,
   "metadata": {
    "ExecuteTime": {
     "end_time": "2018-11-08T07:53:43.029587Z",
     "start_time": "2018-11-08T07:49:43.793323Z"
    }
   },
   "outputs": [
    {
     "name": "stdout",
     "output_type": "stream",
     "text": [
      "Precision : 0.0004087664685721473\n",
      "Recall : 0.00036789676250848993\n",
      "Coverage : 0.1766609363939731\n",
      "Popularity : 2.766799687261488\n"
     ]
    }
   ],
   "source": [
    "recommend_count = 20\n",
    "\n",
    "recommend_users = list(test.keys())\n",
    "recommends = tfidf_plus_model.recommend_users(\n",
    "                users=recommend_users,\n",
    "                recommend_count= recommend_count\n",
    ")\n",
    "precision, recall, coverage, popularity = evaluation(test, recommends)\n",
    "\n",
    "print(\"Precision : {}\".format(precision))\n",
    "print(\"Recall : {}\".format(recall))\n",
    "print(\"Coverage : {}\".format(coverage))\n",
    "print(\"Popularity : {}\".format(popularity))"
   ]
  },
  {
   "cell_type": "markdown",
   "metadata": {},
   "source": [
    "## 标签的相关性报告"
   ]
  },
  {
   "cell_type": "code",
   "execution_count": 8,
   "metadata": {
    "ExecuteTime": {
     "end_time": "2018-11-12T08:12:33.552872Z",
     "start_time": "2018-11-12T08:12:32.539844Z"
    }
   },
   "outputs": [],
   "source": [
    "from main.util.delicious_reader import split_data\n",
    "\n",
    "origin_train, origin_test = split_data(\n",
    "                filename=\"data/delicious-2k/user_taggedbookmarks-timestamps.dat\",\n",
    "                k=1,\n",
    "                cv_folder=10\n",
    ")"
   ]
  },
  {
   "cell_type": "code",
   "execution_count": 5,
   "metadata": {
    "ExecuteTime": {
     "end_time": "2018-11-12T07:05:57.471410Z",
     "start_time": "2018-11-12T07:05:56.291887Z"
    }
   },
   "outputs": [],
   "source": [
    "from main.chapter4 import sim_tag_rec\n",
    "from imp import reload\n",
    "reload(sim_tag_rec)\n",
    "\n",
    "model = sim_tag_rec.SimTagTFIDF()\n",
    "model.train(origin_data=origin_train)"
   ]
  },
  {
   "cell_type": "code",
   "execution_count": 6,
   "metadata": {
    "ExecuteTime": {
     "end_time": "2018-11-12T07:05:59.120863Z",
     "start_time": "2018-11-12T07:05:58.570045Z"
    }
   },
   "outputs": [],
   "source": [
    "similarity_matrix = model.tag_vec_report(tops=30)"
   ]
  },
  {
   "cell_type": "code",
   "execution_count": 7,
   "metadata": {
    "ExecuteTime": {
     "end_time": "2018-11-12T07:06:09.976630Z",
     "start_time": "2018-11-12T07:06:09.250945Z"
    }
   },
   "outputs": [
    {
     "data": {
      "text/plain": [
       "<matplotlib.axes._subplots.AxesSubplot at 0x7f6f0dbc5978>"
      ]
     },
     "execution_count": 7,
     "metadata": {},
     "output_type": "execute_result"
    },
    {
     "data": {
      "image/png": "[encoded data removed]",
      "text/plain": [
       "<Figure size 720x576 with 2 Axes>"
      ]
     },
     "metadata": {},
     "output_type": "display_data"
    }
   ],
   "source": [
    "import seaborn as sns\n",
    "sns.set_style(\"whitegrid\")\n",
    "plt.figure(figsize=(10,8))\n",
    "\n",
    "plt.title(\"Tag Similarity Heat Maps\")\n",
    "plt.xlabel(\"Tags\")\n",
    "plt.ylabel(\"Tags\")\n",
    "sns.heatmap(similarity_matrix,cmap=plt.cm.Blues,)\n"
   ]
  },
  {
   "cell_type": "markdown",
   "metadata": {},
   "source": [
    "## 考虑加入标签协同过滤方式"
   ]
  },
  {
   "cell_type": "markdown",
   "metadata": {},
   "source": [
    "### Training"
   ]
  },
  {
   "cell_type": "code",
   "execution_count": 11,
   "metadata": {
    "ExecuteTime": {
     "end_time": "2018-11-12T08:18:12.412627Z",
     "start_time": "2018-11-12T08:18:11.223574Z"
    }
   },
   "outputs": [],
   "source": [
    "from main.chapter4 import sim_tag_rec\n",
    "from imp import reload\n",
    "reload(sim_tag_rec)\n",
    "\n",
    "model = sim_tag_rec.SimTagTFIDF()\n",
    "model.train(origin_train)"
   ]
  },
  {
   "cell_type": "markdown",
   "metadata": {},
   "source": [
    "### Evaluation"
   ]
  },
  {
   "cell_type": "markdown",
   "metadata": {},
   "source": [
    "#### 整理测试集"
   ]
  },
  {
   "cell_type": "code",
   "execution_count": 12,
   "metadata": {
    "ExecuteTime": {
     "end_time": "2018-11-12T08:18:13.812145Z",
     "start_time": "2018-11-12T08:18:13.772289Z"
    }
   },
   "outputs": [],
   "source": [
    "test = dict()\n",
    "for user_id, item_id, tag_id in origin_test:\n",
    "    test.setdefault(user_id,[])\n",
    "    test[user_id].append(item_id)\n",
    "    \n",
    "test = {user_id : set(items) for user_id, items in test.items()}"
   ]
  },
  {
   "cell_type": "markdown",
   "metadata": {},
   "source": [
    "#### 计算测试集流行度"
   ]
  },
  {
   "cell_type": "code",
   "execution_count": 13,
   "metadata": {
    "ExecuteTime": {
     "end_time": "2018-11-12T08:18:15.609453Z",
     "start_time": "2018-11-12T08:18:15.604614Z"
    }
   },
   "outputs": [],
   "source": [
    "def popularity(data):\n",
    "    \"\"\"计算数据的流行度\n",
    "    \n",
    "    :param data: tuple(int,int,int)\n",
    "        数据集（user_id, item_id, tag_id）\n",
    "    :return: dict{int, int}\n",
    "        流行度字典{item_id:流行度}\n",
    "    \"\"\"\n",
    "    item_popularity = dict()\n",
    "    for user_id, item_id, tag_id in data:\n",
    "        item_popularity.setdefault(item_id, 0)\n",
    "        item_popularity[item_id] += 1\n",
    "    return item_popularity"
   ]
  },
  {
   "cell_type": "code",
   "execution_count": 14,
   "metadata": {
    "ExecuteTime": {
     "end_time": "2018-11-12T08:18:17.853126Z",
     "start_time": "2018-11-12T08:18:17.749028Z"
    }
   },
   "outputs": [],
   "source": [
    "# 计算训练集的流行度\n",
    "train_item_popularity = popularity(origin_train)"
   ]
  },
  {
   "cell_type": "markdown",
   "metadata": {},
   "source": [
    "#### 找出所有商品（用于计算覆盖率）"
   ]
  },
  {
   "cell_type": "code",
   "execution_count": 15,
   "metadata": {
    "ExecuteTime": {
     "end_time": "2018-11-12T08:18:20.971160Z",
     "start_time": "2018-11-12T08:18:20.856377Z"
    }
   },
   "outputs": [],
   "source": [
    "all_items = set()\n",
    "\n",
    "for user_id, item_id, tag_id in origin_train:\n",
    "    all_items.add(item_id)\n",
    "for user_id, item_id, tag_id in origin_test:\n",
    "    all_items.add(item_id)"
   ]
  },
  {
   "cell_type": "code",
   "execution_count": 16,
   "metadata": {
    "ExecuteTime": {
     "end_time": "2018-11-12T08:18:21.952990Z",
     "start_time": "2018-11-12T08:18:21.948156Z"
    }
   },
   "outputs": [],
   "source": [
    "from main.util import metric\n",
    "\n",
    "def evaluation(test,recommend):\n",
    "    \"\"\"评价\n",
    "    Args:\n",
    "        test: dict {user_id : [买过的商品1，买过的商品2,...]}\n",
    "            测试集\n",
    "        recommend:dict {user_id : [推荐的商品1，推荐的商品2,...]}\n",
    "            测试集推荐结果\n",
    "    Return: tuple\n",
    "        (precision,recall,coverage,popularity)\n",
    "    \"\"\"\n",
    "    precision = metric.precision(recommends=recommend, tests=test)\n",
    "    recall = metric.recall(recommends=recommend, tests=test)\n",
    "    coverage = metric.coverage(all_items=all_items, recommends=recommend)\n",
    "    popularity =   metric.popularity(\n",
    "        item_popular=train_item_popularity,recommends=recommend)\n",
    "    \n",
    "    return precision,recall,coverage,popularity"
   ]
  },
  {
   "cell_type": "code",
   "execution_count": 17,
   "metadata": {
    "ExecuteTime": {
     "end_time": "2018-11-12T09:34:58.417814Z",
     "start_time": "2018-11-12T08:18:25.406333Z"
    }
   },
   "outputs": [
    {
     "name": "stdout",
     "output_type": "stream",
     "text": [
      "Precision : 0.0004087664685721473\n",
      "Recall : 0.0003665999266800147\n",
      "Coverage : 0.17732545541221847\n",
      "Popularity : 2.7667086359589597\n"
     ]
    }
   ],
   "source": [
    "recommend_count = 20\n",
    "\n",
    "recommend_users = list(test.keys())\n",
    "recommends = model.recommend_users(\n",
    "                users=recommend_users,\n",
    "                recommend_count= recommend_count\n",
    ")\n",
    "precision, recall, coverage, popularity = evaluation(test, recommends)\n",
    "\n",
    "print(\"Precision : {}\".format(precision))\n",
    "print(\"Recall : {}\".format(recall))\n",
    "print(\"Coverage : {}\".format(coverage))\n",
    "print(\"Popularity : {}\".format(popularity))"
   ]
  },
  {
   "cell_type": "markdown",
   "metadata": {},
   "source": [
    "# Chapter5"
   ]
  },
  {
   "cell_type": "markdown",
   "metadata": {},
   "source": [
    "## 时间特性"
   ]
  },
  {
   "cell_type": "code",
   "execution_count": 16,
   "metadata": {
    "ExecuteTime": {
     "end_time": "2018-11-23T06:59:46.212980Z",
     "start_time": "2018-11-23T06:59:44.555910Z"
    }
   },
   "outputs": [
    {
     "data": {
      "text/html": [
       "<div>\n",
       "<style scoped>\n",
       "    .dataframe tbody tr th:only-of-type {\n",
       "        vertical-align: middle;\n",
       "    }\n",
       "\n",
       "    .dataframe tbody tr th {\n",
       "        vertical-align: top;\n",
       "    }\n",
       "\n",
       "    .dataframe thead th {\n",
       "        text-align: right;\n",
       "    }\n",
       "</style>\n",
       "<table border=\"1\" class=\"dataframe\">\n",
       "  <thead>\n",
       "    <tr style=\"text-align: right;\">\n",
       "      <th></th>\n",
       "      <th>UserID</th>\n",
       "      <th>ItemID</th>\n",
       "      <th>TagID</th>\n",
       "      <th>Time</th>\n",
       "    </tr>\n",
       "  </thead>\n",
       "  <tbody>\n",
       "    <tr>\n",
       "      <th>0</th>\n",
       "      <td>8</td>\n",
       "      <td>1</td>\n",
       "      <td>1</td>\n",
       "      <td>2010-11-09 06:29:22</td>\n",
       "    </tr>\n",
       "    <tr>\n",
       "      <th>1</th>\n",
       "      <td>8</td>\n",
       "      <td>2</td>\n",
       "      <td>1</td>\n",
       "      <td>2010-11-09 06:25:59</td>\n",
       "    </tr>\n",
       "    <tr>\n",
       "      <th>2</th>\n",
       "      <td>8</td>\n",
       "      <td>7</td>\n",
       "      <td>1</td>\n",
       "      <td>2010-11-09 01:55:01</td>\n",
       "    </tr>\n",
       "    <tr>\n",
       "      <th>3</th>\n",
       "      <td>8</td>\n",
       "      <td>7</td>\n",
       "      <td>6</td>\n",
       "      <td>2010-11-09 01:55:01</td>\n",
       "    </tr>\n",
       "    <tr>\n",
       "      <th>4</th>\n",
       "      <td>8</td>\n",
       "      <td>7</td>\n",
       "      <td>7</td>\n",
       "      <td>2010-11-09 01:55:01</td>\n",
       "    </tr>\n",
       "  </tbody>\n",
       "</table>\n",
       "</div>"
      ],
      "text/plain": [
       "   UserID  ItemID  TagID                Time\n",
       "0       8       1      1 2010-11-09 06:29:22\n",
       "1       8       2      1 2010-11-09 06:25:59\n",
       "2       8       7      1 2010-11-09 01:55:01\n",
       "3       8       7      6 2010-11-09 01:55:01\n",
       "4       8       7      7 2010-11-09 01:55:01"
      ]
     },
     "execution_count": 16,
     "metadata": {},
     "output_type": "execute_result"
    }
   ],
   "source": [
    "from main.util import delicious_reader\n",
    "from imp import reload\n",
    "reload(delicious_reader)\n",
    "\n",
    "path = \"data/delicious-2k/user_taggedbookmarks-timestamps.dat\"\n",
    "\n",
    "tag_time = delicious_reader.read_tag_time(path)\n",
    "tag_time_df = pd.DataFrame(tag_time,columns=[\"UserID\",\"ItemID\",\"TagID\",\"Time\"])\n",
    "tag_time_df.head()"
   ]
  },
  {
   "cell_type": "markdown",
   "metadata": {},
   "source": [
    "### 找到打标签最多的商品"
   ]
  },
  {
   "cell_type": "code",
   "execution_count": 24,
   "metadata": {
    "ExecuteTime": {
     "end_time": "2018-11-23T07:06:59.745463Z",
     "start_time": "2018-11-23T07:06:59.727937Z"
    }
   },
   "outputs": [
    {
     "data": {
      "text/plain": [
       "5448     158\n",
       "8981     154\n",
       "11115    147\n",
       "2720     142\n",
       "1752     142\n",
       "Name: ItemID, dtype: int64"
      ]
     },
     "execution_count": 24,
     "metadata": {},
     "output_type": "execute_result"
    }
   ],
   "source": [
    "tag_time_df.ItemID.value_counts().head()"
   ]
  },
  {
   "cell_type": "markdown",
   "metadata": {},
   "source": [
    "### 热度统计"
   ]
  },
  {
   "cell_type": "code",
   "execution_count": 66,
   "metadata": {
    "ExecuteTime": {
     "end_time": "2018-11-23T07:45:21.038185Z",
     "start_time": "2018-11-23T07:45:20.850597Z"
    }
   },
   "outputs": [
    {
     "name": "stderr",
     "output_type": "stream",
     "text": [
      "/usr/local/lib/python3.6/dist-packages/ipykernel_launcher.py:2: SettingWithCopyWarning: \n",
      "A value is trying to be set on a copy of a slice from a DataFrame.\n",
      "Try using .loc[row_indexer,col_indexer] = value instead\n",
      "\n",
      "See the caveats in the documentation: http://pandas.pydata.org/pandas-docs/stable/indexing.html#indexing-view-versus-copy\n",
      "  \n"
     ]
    },
    {
     "data": {
      "text/html": [
       "<div>\n",
       "<style scoped>\n",
       "    .dataframe tbody tr th:only-of-type {\n",
       "        vertical-align: middle;\n",
       "    }\n",
       "\n",
       "    .dataframe tbody tr th {\n",
       "        vertical-align: top;\n",
       "    }\n",
       "\n",
       "    .dataframe thead th {\n",
       "        text-align: right;\n",
       "    }\n",
       "</style>\n",
       "<table border=\"1\" class=\"dataframe\">\n",
       "  <thead>\n",
       "    <tr style=\"text-align: right;\">\n",
       "      <th></th>\n",
       "      <th>UserID</th>\n",
       "      <th>ItemID</th>\n",
       "      <th>TagID</th>\n",
       "      <th>Time</th>\n",
       "    </tr>\n",
       "    <tr>\n",
       "      <th>Date</th>\n",
       "      <th></th>\n",
       "      <th></th>\n",
       "      <th></th>\n",
       "      <th></th>\n",
       "    </tr>\n",
       "  </thead>\n",
       "  <tbody>\n",
       "    <tr>\n",
       "      <th>2010-06-25</th>\n",
       "      <td>4</td>\n",
       "      <td>4</td>\n",
       "      <td>4</td>\n",
       "      <td>4</td>\n",
       "    </tr>\n",
       "    <tr>\n",
       "      <th>2010-08-11</th>\n",
       "      <td>40</td>\n",
       "      <td>40</td>\n",
       "      <td>40</td>\n",
       "      <td>40</td>\n",
       "    </tr>\n",
       "    <tr>\n",
       "      <th>2010-08-12</th>\n",
       "      <td>15</td>\n",
       "      <td>15</td>\n",
       "      <td>15</td>\n",
       "      <td>15</td>\n",
       "    </tr>\n",
       "    <tr>\n",
       "      <th>2010-08-13</th>\n",
       "      <td>9</td>\n",
       "      <td>9</td>\n",
       "      <td>9</td>\n",
       "      <td>9</td>\n",
       "    </tr>\n",
       "    <tr>\n",
       "      <th>2010-08-16</th>\n",
       "      <td>6</td>\n",
       "      <td>6</td>\n",
       "      <td>6</td>\n",
       "      <td>6</td>\n",
       "    </tr>\n",
       "  </tbody>\n",
       "</table>\n",
       "</div>"
      ],
      "text/plain": [
       "            UserID  ItemID  TagID  Time\n",
       "Date                                   \n",
       "2010-06-25       4       4      4     4\n",
       "2010-08-11      40      40     40    40\n",
       "2010-08-12      15      15     15    15\n",
       "2010-08-13       9       9      9     9\n",
       "2010-08-16       6       6      6     6"
      ]
     },
     "execution_count": 66,
     "metadata": {},
     "output_type": "execute_result"
    }
   ],
   "source": [
    "Item_5448 = tag_time_df.loc[tag_time_df.ItemID == 5448]\n",
    "Item_5448[\"Date\"] = Item_5448.Time.apply(lambda x: x.date())\n",
    "Item_5448 = Item_5448.groupby(\"Date\",sort=True).count()\n",
    "Item_5448.head()"
   ]
  },
  {
   "cell_type": "markdown",
   "metadata": {},
   "source": [
    "### 画图"
   ]
  },
  {
   "cell_type": "code",
   "execution_count": 80,
   "metadata": {
    "ExecuteTime": {
     "end_time": "2018-11-23T07:59:08.973651Z",
     "start_time": "2018-11-23T07:59:08.614623Z"
    }
   },
   "outputs": [
    {
     "data": {
      "text/plain": [
       "<matplotlib.axes._subplots.AxesSubplot at 0x7feb06d89198>"
      ]
     },
     "execution_count": 80,
     "metadata": {},
     "output_type": "execute_result"
    },
    {
     "data": {
      "image/png": "[encoded data removed]",
      "text/plain": [
       "<Figure size 720x432 with 1 Axes>"
      ]
     },
     "metadata": {},
     "output_type": "display_data"
    }
   ],
   "source": [
    "plt.figure(figsize=(10,6))\n",
    "sns.set_style(\"darkgrid\")\n",
    "\n",
    "plt.xticks(rotation=45)\n",
    "plt.title(\"ITEM 5448 Variation Trend\")\n",
    "\n",
    "Item_5448[\"Tag Count\"] = Item_5448[\"ItemID\"]\n",
    "sns.pointplot(x=Item_5448.index,y=\"Tag Count\",data=Item_5448)"
   ]
  },
  {
   "cell_type": "markdown",
   "metadata": {},
   "source": [
    "## 最近最热门"
   ]
  },
  {
   "cell_type": "markdown",
   "metadata": {},
   "source": [
    "### 数据集"
   ]
  },
  {
   "cell_type": "code",
   "execution_count": 17,
   "metadata": {
    "ExecuteTime": {
     "end_time": "2018-11-26T07:22:26.086480Z",
     "start_time": "2018-11-26T07:22:24.420299Z"
    }
   },
   "outputs": [],
   "source": [
    "from main.util import delicious_reader\n",
    "\n",
    "data = delicious_reader.read_tag_time(\"data/delicious-2k/user_taggedbookmarks-timestamps.dat\")\n",
    "data = [[user_id,item_id,ui_time] for user_id, item_id, tag_id, ui_time in data]"
   ]
  },
  {
   "cell_type": "markdown",
   "metadata": {},
   "source": [
    "### 模型"
   ]
  },
  {
   "cell_type": "code",
   "execution_count": 26,
   "metadata": {
    "ExecuteTime": {
     "end_time": "2018-11-26T07:25:24.625997Z",
     "start_time": "2018-11-26T07:25:24.618320Z"
    }
   },
   "outputs": [],
   "source": [
    "from imp import reload\n",
    "from main.chapter5 import most_popularity\n",
    "reload(most_popularity)\n",
    "\n",
    "model = most_popularity.RecentPopular()\n",
    "model.train(data)"
   ]
  },
  {
   "cell_type": "markdown",
   "metadata": {},
   "source": [
    "### 推荐"
   ]
  },
  {
   "cell_type": "code",
   "execution_count": 32,
   "metadata": {
    "ExecuteTime": {
     "end_time": "2018-11-26T07:27:00.211573Z",
     "start_time": "2018-11-26T07:27:00.010612Z"
    }
   },
   "outputs": [
    {
     "name": "stdout",
     "output_type": "stream",
     "text": [
      "推荐的最近热门商品ID:[5448, 8981, 11115, 1752, 2720, 1087, 7535, 1303, 4114, 4041]\n"
     ]
    }
   ],
   "source": [
    "print(\"推荐的最近热门商品ID:{0}\".format(model.recommend(alpha=0.1)))"
   ]
  }
 ],
 "metadata": {
  "celltoolbar": "Initialization Cell",
  "kernelspec": {
   "display_name": "Python 3",
   "language": "python",
   "name": "python3"
  },
  "language_info": {
   "codemirror_mode": {
    "name": "ipython",
    "version": 3
   },
   "file_extension": ".py",
   "mimetype": "text/x-python",
   "name": "python",
   "nbconvert_exporter": "python",
   "pygments_lexer": "ipython3",
   "version": "3.7.2"
  },
  "toc": {
   "nav_menu": {},
   "number_sections": true,
   "sideBar": true,
   "skip_h1_title": false,
   "toc_cell": true,
   "toc_position": {
    "height": "calc(100% - 180px)",
    "left": "10px",
    "top": "150px",
    "width": "370px"
   },
   "toc_section_display": true,
   "toc_window_display": true
  },
  "varInspector": {
   "cols": {
    "lenName": 16,
    "lenType": 16,
    "lenVar": 40
   },
   "kernels_config": {
    "python": {
     "delete_cmd_postfix": "",
     "delete_cmd_prefix": "del ",
     "library": "var_list.py",
     "varRefreshCmd": "print(var_dic_list())"
    },
    "r": {
     "delete_cmd_postfix": ") ",
     "delete_cmd_prefix": "rm(",
     "library": "var_list.r",
     "varRefreshCmd": "cat(var_dic_list()) "
    }
   },
   "types_to_exclude": [
    "module",
    "function",
    "builtin_function_or_method",
    "instance",
    "_Feature"
   ],
   "window_display": false
  }
 },
 "nbformat": 4,
 "nbformat_minor": 2
}
